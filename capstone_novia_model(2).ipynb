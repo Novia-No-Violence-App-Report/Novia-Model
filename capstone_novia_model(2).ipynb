{
  "nbformat": 4,
  "nbformat_minor": 0,
  "metadata": {
    "colab": {
      "name": "capstone_novia_model.ipynb",
      "provenance": [],
      "collapsed_sections": []
    },
    "kernelspec": {
      "name": "python3",
      "display_name": "Python 3"
    },
    "language_info": {
      "name": "python"
    },
    "accelerator": "GPU"
  },
  "cells": [
    {
      "cell_type": "code",
      "metadata": {
        "id": "fxQXtxB8ohW8"
      },
      "source": [
        "import numpy as np # linear algebra\n",
        "import pandas as pd # data processing\n",
        "import tensorflow as tf\n",
        "\n",
        "from sklearn.feature_extraction.text import CountVectorizer\n",
        "from keras.preprocessing.text import Tokenizer\n",
        "from keras.preprocessing.sequence import pad_sequences\n",
        "from keras.models import Sequential\n",
        "from keras.layers import Dense, Embedding, LSTM, SpatialDropout1D\n",
        "from sklearn.model_selection import train_test_split\n",
        "from keras.utils.np_utils import to_categorical\n",
        "import re"
      ],
      "execution_count": 4,
      "outputs": []
    },
    {
      "cell_type": "code",
      "metadata": {
        "id": "sg64dzAXopTc"
      },
      "source": [
        "# from google.colab import files \n",
        "# upload = files.upload()"
      ],
      "execution_count": 5,
      "outputs": []
    },
    {
      "cell_type": "code",
      "metadata": {
        "colab": {
          "base_uri": "https://localhost:8080/",
          "height": 424
        },
        "id": "rdtH-bo6oqck",
        "outputId": "283be2b4-313b-4bcc-f974-cc1b00848fcf"
      },
      "source": [
        "#baca data\n",
        "data = pd.read_csv('data_nlp.csv')\n",
        "\n",
        "# Keeping only the neccessary columns\n",
        "data = data[['ID','kategori','isi_laporan','sentimen']]\n",
        "data"
      ],
      "execution_count": 6,
      "outputs": [
        {
          "output_type": "execute_result",
          "data": {
            "text/html": [
              "<div>\n",
              "<style scoped>\n",
              "    .dataframe tbody tr th:only-of-type {\n",
              "        vertical-align: middle;\n",
              "    }\n",
              "\n",
              "    .dataframe tbody tr th {\n",
              "        vertical-align: top;\n",
              "    }\n",
              "\n",
              "    .dataframe thead th {\n",
              "        text-align: right;\n",
              "    }\n",
              "</style>\n",
              "<table border=\"1\" class=\"dataframe\">\n",
              "  <thead>\n",
              "    <tr style=\"text-align: right;\">\n",
              "      <th></th>\n",
              "      <th>ID</th>\n",
              "      <th>kategori</th>\n",
              "      <th>isi_laporan</th>\n",
              "      <th>sentimen</th>\n",
              "    </tr>\n",
              "  </thead>\n",
              "  <tbody>\n",
              "    <tr>\n",
              "      <th>0</th>\n",
              "      <td>1</td>\n",
              "      <td>Fisik</td>\n",
              "      <td>Ibu saya sering pingsan dipukuli oleh ayah sam...</td>\n",
              "      <td>High</td>\n",
              "    </tr>\n",
              "    <tr>\n",
              "      <th>1</th>\n",
              "      <td>2</td>\n",
              "      <td>Psikis</td>\n",
              "      <td>Sejak kecil, ayah saya tidak menyukai penampil...</td>\n",
              "      <td>High</td>\n",
              "    </tr>\n",
              "    <tr>\n",
              "      <th>2</th>\n",
              "      <td>3</td>\n",
              "      <td>Seksual</td>\n",
              "      <td>Pagi tadi saya iseng mengunggah sebuah foto se...</td>\n",
              "      <td>High</td>\n",
              "    </tr>\n",
              "    <tr>\n",
              "      <th>3</th>\n",
              "      <td>4</td>\n",
              "      <td>Seksual</td>\n",
              "      <td>ANAK SAYA DIGERAYANGI OLEH LAKI-LAKI TIDAK DIK...</td>\n",
              "      <td>High</td>\n",
              "    </tr>\n",
              "    <tr>\n",
              "      <th>4</th>\n",
              "      <td>5</td>\n",
              "      <td>Fisik</td>\n",
              "      <td>Ada kasus pencabulan di SLB dekat rumah. Belum...</td>\n",
              "      <td>High</td>\n",
              "    </tr>\n",
              "    <tr>\n",
              "      <th>...</th>\n",
              "      <td>...</td>\n",
              "      <td>...</td>\n",
              "      <td>...</td>\n",
              "      <td>...</td>\n",
              "    </tr>\n",
              "    <tr>\n",
              "      <th>495</th>\n",
              "      <td>496</td>\n",
              "      <td>Seksual</td>\n",
              "      <td>Saya benci dengan kakak ipar saya, dia suka me...</td>\n",
              "      <td>High</td>\n",
              "    </tr>\n",
              "    <tr>\n",
              "      <th>496</th>\n",
              "      <td>497</td>\n",
              "      <td>penelantaran</td>\n",
              "      <td>Ayah saya pergi dan tidak pernah kembali karen...</td>\n",
              "      <td>High</td>\n",
              "    </tr>\n",
              "    <tr>\n",
              "      <th>497</th>\n",
              "      <td>498</td>\n",
              "      <td>Fisik</td>\n",
              "      <td>Kenalan saya mengadopsi anak, tapi karena anak...</td>\n",
              "      <td>High</td>\n",
              "    </tr>\n",
              "    <tr>\n",
              "      <th>498</th>\n",
              "      <td>499</td>\n",
              "      <td>Seksual</td>\n",
              "      <td>Kemarin saya bertemu lagi dengan teman SMA yan...</td>\n",
              "      <td>High</td>\n",
              "    </tr>\n",
              "    <tr>\n",
              "      <th>499</th>\n",
              "      <td>500</td>\n",
              "      <td>Seksual</td>\n",
              "      <td>Perilaku anak saya terlihat aneh dan ketakutan...</td>\n",
              "      <td>High</td>\n",
              "    </tr>\n",
              "  </tbody>\n",
              "</table>\n",
              "<p>500 rows × 4 columns</p>\n",
              "</div>"
            ],
            "text/plain": [
              "      ID  ... sentimen\n",
              "0      1  ...     High\n",
              "1      2  ...     High\n",
              "2      3  ...     High\n",
              "3      4  ...     High\n",
              "4      5  ...     High\n",
              "..   ...  ...      ...\n",
              "495  496  ...     High\n",
              "496  497  ...     High\n",
              "497  498  ...     High\n",
              "498  499  ...     High\n",
              "499  500  ...     High\n",
              "\n",
              "[500 rows x 4 columns]"
            ]
          },
          "metadata": {
            "tags": []
          },
          "execution_count": 6
        }
      ]
    },
    {
      "cell_type": "code",
      "metadata": {
        "colab": {
          "base_uri": "https://localhost:8080/"
        },
        "id": "ciqaa455orVt",
        "outputId": "2e515c34-1241-4986-b935-adeeae83aee9"
      },
      "source": [
        "data.isnull().sum()"
      ],
      "execution_count": 7,
      "outputs": [
        {
          "output_type": "execute_result",
          "data": {
            "text/plain": [
              "ID             0\n",
              "kategori       0\n",
              "isi_laporan    0\n",
              "sentimen       0\n",
              "dtype: int64"
            ]
          },
          "metadata": {
            "tags": []
          },
          "execution_count": 7
        }
      ]
    },
    {
      "cell_type": "code",
      "metadata": {
        "colab": {
          "base_uri": "https://localhost:8080/",
          "height": 206
        },
        "id": "-WGOBhsrossR",
        "outputId": "db7b51b1-4a40-4f00-ca9f-4147651bacef"
      },
      "source": [
        "data = data[data.sentimen != \"Medium\"]\n",
        "\n",
        "data['isi_laporan'] = data['isi_laporan'].apply(lambda x: x.lower())\n",
        "data['isi_laporan'] = data['isi_laporan'].apply((lambda x: re.sub('[^a-zA-z0-9\\s]','',x)))\n",
        "    \n",
        "# for idx,row in data.iterrows():\n",
        "# row[0] = row[0].replace('rt',' ')\n",
        "\n",
        "data.head()"
      ],
      "execution_count": 8,
      "outputs": [
        {
          "output_type": "execute_result",
          "data": {
            "text/html": [
              "<div>\n",
              "<style scoped>\n",
              "    .dataframe tbody tr th:only-of-type {\n",
              "        vertical-align: middle;\n",
              "    }\n",
              "\n",
              "    .dataframe tbody tr th {\n",
              "        vertical-align: top;\n",
              "    }\n",
              "\n",
              "    .dataframe thead th {\n",
              "        text-align: right;\n",
              "    }\n",
              "</style>\n",
              "<table border=\"1\" class=\"dataframe\">\n",
              "  <thead>\n",
              "    <tr style=\"text-align: right;\">\n",
              "      <th></th>\n",
              "      <th>ID</th>\n",
              "      <th>kategori</th>\n",
              "      <th>isi_laporan</th>\n",
              "      <th>sentimen</th>\n",
              "    </tr>\n",
              "  </thead>\n",
              "  <tbody>\n",
              "    <tr>\n",
              "      <th>0</th>\n",
              "      <td>1</td>\n",
              "      <td>Fisik</td>\n",
              "      <td>ibu saya sering pingsan dipukuli oleh ayah sam...</td>\n",
              "      <td>High</td>\n",
              "    </tr>\n",
              "    <tr>\n",
              "      <th>1</th>\n",
              "      <td>2</td>\n",
              "      <td>Psikis</td>\n",
              "      <td>sejak kecil ayah saya tidak menyukai penampila...</td>\n",
              "      <td>High</td>\n",
              "    </tr>\n",
              "    <tr>\n",
              "      <th>2</th>\n",
              "      <td>3</td>\n",
              "      <td>Seksual</td>\n",
              "      <td>pagi tadi saya iseng mengunggah sebuah foto se...</td>\n",
              "      <td>High</td>\n",
              "    </tr>\n",
              "    <tr>\n",
              "      <th>3</th>\n",
              "      <td>4</td>\n",
              "      <td>Seksual</td>\n",
              "      <td>anak saya digerayangi oleh lakilaki tidak dike...</td>\n",
              "      <td>High</td>\n",
              "    </tr>\n",
              "    <tr>\n",
              "      <th>4</th>\n",
              "      <td>5</td>\n",
              "      <td>Fisik</td>\n",
              "      <td>ada kasus pencabulan di slb dekat rumah belum ...</td>\n",
              "      <td>High</td>\n",
              "    </tr>\n",
              "  </tbody>\n",
              "</table>\n",
              "</div>"
            ],
            "text/plain": [
              "   ID kategori                                        isi_laporan sentimen\n",
              "0   1    Fisik  ibu saya sering pingsan dipukuli oleh ayah sam...     High\n",
              "1   2   Psikis  sejak kecil ayah saya tidak menyukai penampila...     High\n",
              "2   3  Seksual  pagi tadi saya iseng mengunggah sebuah foto se...     High\n",
              "3   4  Seksual  anak saya digerayangi oleh lakilaki tidak dike...     High\n",
              "4   5    Fisik  ada kasus pencabulan di slb dekat rumah belum ...     High"
            ]
          },
          "metadata": {
            "tags": []
          },
          "execution_count": 8
        }
      ]
    },
    {
      "cell_type": "code",
      "metadata": {
        "colab": {
          "base_uri": "https://localhost:8080/"
        },
        "id": "j_DgujkLotoJ",
        "outputId": "8814ee7d-38ea-4ddd-f4e6-a25fed830f34"
      },
      "source": [
        "#Checking total data\n",
        "print(len(data[data.sentimen == \"High\"]))\n",
        "print(len(data[data.sentimen == \"Low\"]))"
      ],
      "execution_count": 9,
      "outputs": [
        {
          "output_type": "stream",
          "text": [
            "333\n",
            "167\n"
          ],
          "name": "stdout"
        }
      ]
    },
    {
      "cell_type": "code",
      "metadata": {
        "id": "Mht40mIioujI"
      },
      "source": [
        "max_features = 3000\n",
        "\n",
        "tokenizer = Tokenizer(num_words=max_features, split=' ')\n",
        "tokenizer.fit_on_texts(data['isi_laporan'].values)\n",
        "X = tokenizer.texts_to_sequences(data['isi_laporan'].values)\n",
        "X = pad_sequences(X)"
      ],
      "execution_count": 10,
      "outputs": []
    },
    {
      "cell_type": "code",
      "metadata": {
        "colab": {
          "base_uri": "https://localhost:8080/"
        },
        "id": "DZV8_kXkovar",
        "outputId": "4e01ef95-3659-4436-d417-1efcd300e42e"
      },
      "source": [
        "Y = pd.get_dummies(data['sentimen']).values\n",
        "X_train, X_test, Y_train, Y_test = train_test_split(X,Y, test_size = 0.2, random_state = 42)\n",
        "print(X_train.shape,Y_train.shape)\n",
        "print(X_test.shape,Y_test.shape)"
      ],
      "execution_count": 11,
      "outputs": [
        {
          "output_type": "stream",
          "text": [
            "(400, 53) (400, 2)\n",
            "(100, 53) (100, 2)\n"
          ],
          "name": "stdout"
        }
      ]
    },
    {
      "cell_type": "code",
      "metadata": {
        "colab": {
          "base_uri": "https://localhost:8080/",
          "height": 424
        },
        "id": "t1IjKr_kowHj",
        "outputId": "080e8bdb-350b-48cb-b8e9-809f4d83e9d2"
      },
      "source": [
        "# kategori = pd.get_dummies(data.sentimen)\n",
        "# data = pd.concat([data, kategori], axis=1 )\n",
        "# data = data.drop(columns=['ID', 'kategori','sentimen'])\n",
        "data = data.drop(columns=['ID', 'kategori'])\n",
        "data"
      ],
      "execution_count": 12,
      "outputs": [
        {
          "output_type": "execute_result",
          "data": {
            "text/html": [
              "<div>\n",
              "<style scoped>\n",
              "    .dataframe tbody tr th:only-of-type {\n",
              "        vertical-align: middle;\n",
              "    }\n",
              "\n",
              "    .dataframe tbody tr th {\n",
              "        vertical-align: top;\n",
              "    }\n",
              "\n",
              "    .dataframe thead th {\n",
              "        text-align: right;\n",
              "    }\n",
              "</style>\n",
              "<table border=\"1\" class=\"dataframe\">\n",
              "  <thead>\n",
              "    <tr style=\"text-align: right;\">\n",
              "      <th></th>\n",
              "      <th>isi_laporan</th>\n",
              "      <th>sentimen</th>\n",
              "    </tr>\n",
              "  </thead>\n",
              "  <tbody>\n",
              "    <tr>\n",
              "      <th>0</th>\n",
              "      <td>ibu saya sering pingsan dipukuli oleh ayah sam...</td>\n",
              "      <td>High</td>\n",
              "    </tr>\n",
              "    <tr>\n",
              "      <th>1</th>\n",
              "      <td>sejak kecil ayah saya tidak menyukai penampila...</td>\n",
              "      <td>High</td>\n",
              "    </tr>\n",
              "    <tr>\n",
              "      <th>2</th>\n",
              "      <td>pagi tadi saya iseng mengunggah sebuah foto se...</td>\n",
              "      <td>High</td>\n",
              "    </tr>\n",
              "    <tr>\n",
              "      <th>3</th>\n",
              "      <td>anak saya digerayangi oleh lakilaki tidak dike...</td>\n",
              "      <td>High</td>\n",
              "    </tr>\n",
              "    <tr>\n",
              "      <th>4</th>\n",
              "      <td>ada kasus pencabulan di slb dekat rumah belum ...</td>\n",
              "      <td>High</td>\n",
              "    </tr>\n",
              "    <tr>\n",
              "      <th>...</th>\n",
              "      <td>...</td>\n",
              "      <td>...</td>\n",
              "    </tr>\n",
              "    <tr>\n",
              "      <th>495</th>\n",
              "      <td>saya benci dengan kakak ipar saya dia suka men...</td>\n",
              "      <td>High</td>\n",
              "    </tr>\n",
              "    <tr>\n",
              "      <th>496</th>\n",
              "      <td>ayah saya pergi dan tidak pernah kembali karen...</td>\n",
              "      <td>High</td>\n",
              "    </tr>\n",
              "    <tr>\n",
              "      <th>497</th>\n",
              "      <td>kenalan saya mengadopsi anak tapi karena anak ...</td>\n",
              "      <td>High</td>\n",
              "    </tr>\n",
              "    <tr>\n",
              "      <th>498</th>\n",
              "      <td>kemarin saya bertemu lagi dengan teman sma yan...</td>\n",
              "      <td>High</td>\n",
              "    </tr>\n",
              "    <tr>\n",
              "      <th>499</th>\n",
              "      <td>perilaku anak saya terlihat aneh dan ketakutan...</td>\n",
              "      <td>High</td>\n",
              "    </tr>\n",
              "  </tbody>\n",
              "</table>\n",
              "<p>500 rows × 2 columns</p>\n",
              "</div>"
            ],
            "text/plain": [
              "                                           isi_laporan sentimen\n",
              "0    ibu saya sering pingsan dipukuli oleh ayah sam...     High\n",
              "1    sejak kecil ayah saya tidak menyukai penampila...     High\n",
              "2    pagi tadi saya iseng mengunggah sebuah foto se...     High\n",
              "3    anak saya digerayangi oleh lakilaki tidak dike...     High\n",
              "4    ada kasus pencabulan di slb dekat rumah belum ...     High\n",
              "..                                                 ...      ...\n",
              "495  saya benci dengan kakak ipar saya dia suka men...     High\n",
              "496  ayah saya pergi dan tidak pernah kembali karen...     High\n",
              "497  kenalan saya mengadopsi anak tapi karena anak ...     High\n",
              "498  kemarin saya bertemu lagi dengan teman sma yan...     High\n",
              "499  perilaku anak saya terlihat aneh dan ketakutan...     High\n",
              "\n",
              "[500 rows x 2 columns]"
            ]
          },
          "metadata": {
            "tags": []
          },
          "execution_count": 12
        }
      ]
    },
    {
      "cell_type": "code",
      "metadata": {
        "id": "8JNDqguooxvi"
      },
      "source": [
        "y_train = to_categorical(Y_train, 2)\n",
        "y_test = to_categorical(Y_test, 2)"
      ],
      "execution_count": 13,
      "outputs": []
    },
    {
      "cell_type": "code",
      "metadata": {
        "colab": {
          "base_uri": "https://localhost:8080/"
        },
        "id": "ajojCCrtoy2t",
        "outputId": "4f4fb9a3-51fc-4fa2-e35f-a3a7408c61cf"
      },
      "source": [
        "embed_dim = 128\n",
        "lstm_out = 196\n",
        "\n",
        "model = Sequential()\n",
        "model.add(Embedding(max_features, embed_dim,input_length = X.shape[1]))\n",
        "model.add(SpatialDropout1D (0.5))\n",
        "model.add(LSTM(lstm_out, dropout=0.5, recurrent_dropout=0.5))\n",
        "model.add(Dense(2,activation='sigmoid'))\n",
        "\n",
        "model.compile(loss = 'binary_crossentropy', optimizer='adam',metrics = ['accuracy'])\n",
        "\n",
        "print(model.summary())"
      ],
      "execution_count": 14,
      "outputs": [
        {
          "output_type": "stream",
          "text": [
            "WARNING:tensorflow:Layer lstm will not use cuDNN kernels since it doesn't meet the criteria. It will use a generic GPU kernel as fallback when running on GPU.\n",
            "Model: \"sequential\"\n",
            "_________________________________________________________________\n",
            "Layer (type)                 Output Shape              Param #   \n",
            "=================================================================\n",
            "embedding (Embedding)        (None, 53, 128)           384000    \n",
            "_________________________________________________________________\n",
            "spatial_dropout1d (SpatialDr (None, 53, 128)           0         \n",
            "_________________________________________________________________\n",
            "lstm (LSTM)                  (None, 196)               254800    \n",
            "_________________________________________________________________\n",
            "dense (Dense)                (None, 2)                 394       \n",
            "=================================================================\n",
            "Total params: 639,194\n",
            "Trainable params: 639,194\n",
            "Non-trainable params: 0\n",
            "_________________________________________________________________\n",
            "None\n"
          ],
          "name": "stdout"
        }
      ]
    },
    {
      "cell_type": "code",
      "metadata": {
        "id": "X0R7KS6Woz30"
      },
      "source": [
        "#Implementasi Callback\n",
        "class myCallback(tf.keras.callbacks.Callback):\n",
        "  def on_epoch_end(self, epoch, logs={}):\n",
        "    if(logs.get('accuracy')>0.90):\n",
        "      print(\"\\nAkurasi telah mencapai >90%!\")\n",
        "      self.model.stop_training = True\n",
        "callbacks = myCallback()"
      ],
      "execution_count": 15,
      "outputs": []
    },
    {
      "cell_type": "code",
      "metadata": {
        "id": "X63KOBMuo06t"
      },
      "source": [
        "# model.fit(X_train, Y_train, epochs=15, callbacks=[callbacks])"
      ],
      "execution_count": 16,
      "outputs": []
    },
    {
      "cell_type": "code",
      "metadata": {
        "colab": {
          "base_uri": "https://localhost:8080/"
        },
        "id": "pCMv7cD3o1xW",
        "outputId": "9c6ad686-1ec5-4c74-fff7-4cefd5f72b02"
      },
      "source": [
        "batch_size = 32\n",
        "history = model.fit(X_train, Y_train, \n",
        "                    epochs = 15, \n",
        "                    batch_size=batch_size, \n",
        "                    validation_data=(X_test, Y_test),\n",
        "                    verbose = 1,\n",
        "                    callbacks=[callbacks])"
      ],
      "execution_count": 17,
      "outputs": [
        {
          "output_type": "stream",
          "text": [
            "Epoch 1/15\n",
            "13/13 [==============================] - 32s 409ms/step - loss: 0.6837 - accuracy: 0.6157 - val_loss: 0.6343 - val_accuracy: 0.7100\n",
            "Epoch 2/15\n",
            "13/13 [==============================] - 4s 307ms/step - loss: 0.6436 - accuracy: 0.6657 - val_loss: 0.5991 - val_accuracy: 0.7100\n",
            "Epoch 3/15\n",
            "13/13 [==============================] - 4s 309ms/step - loss: 0.6064 - accuracy: 0.6815 - val_loss: 0.5958 - val_accuracy: 0.7100\n",
            "Epoch 4/15\n",
            "13/13 [==============================] - 4s 312ms/step - loss: 0.5642 - accuracy: 0.6709 - val_loss: 0.6223 - val_accuracy: 0.6200\n",
            "Epoch 5/15\n",
            "13/13 [==============================] - 4s 321ms/step - loss: 0.4593 - accuracy: 0.8075 - val_loss: 0.6169 - val_accuracy: 0.7200\n",
            "Epoch 6/15\n",
            "13/13 [==============================] - 4s 308ms/step - loss: 0.3893 - accuracy: 0.8417 - val_loss: 0.4744 - val_accuracy: 0.8200\n",
            "Epoch 7/15\n",
            "13/13 [==============================] - 4s 308ms/step - loss: 0.3045 - accuracy: 0.8855 - val_loss: 0.5134 - val_accuracy: 0.7900\n",
            "Epoch 8/15\n",
            "13/13 [==============================] - 4s 320ms/step - loss: 0.2268 - accuracy: 0.9282 - val_loss: 0.4142 - val_accuracy: 0.8400\n",
            "\n",
            "Akurasi telah mencapai >90%!\n"
          ],
          "name": "stdout"
        }
      ]
    },
    {
      "cell_type": "code",
      "metadata": {
        "colab": {
          "base_uri": "https://localhost:8080/"
        },
        "id": "Js6suzxto2g4",
        "outputId": "37928fc0-458e-4afe-cb4f-09ad0d2923be"
      },
      "source": [
        "score = model.evaluate(X_test, Y_test, verbose=False)\n",
        "print(\"loss = \",score[0])\n",
        "print(\"accuracy = \",score[1])"
      ],
      "execution_count": 18,
      "outputs": [
        {
          "output_type": "stream",
          "text": [
            "loss =  0.4141545593738556\n",
            "accuracy =  0.8399999737739563\n"
          ],
          "name": "stdout"
        }
      ]
    },
    {
      "cell_type": "code",
      "metadata": {
        "colab": {
          "base_uri": "https://localhost:8080/",
          "height": 295
        },
        "id": "VGO0rWA-o3mC",
        "outputId": "e8db0e87-8ba6-42e9-9d21-5f14837ba8f4"
      },
      "source": [
        "#melakukan plot untuk model accuracy pada training data \n",
        "import matplotlib.pyplot as plt\n",
        "\n",
        "plt.plot(history.history['accuracy'])\n",
        "plt.title('Model accuracy')\n",
        "plt.ylabel('Accuracy')\n",
        "plt.xlabel('Epoch')\n",
        "plt.legend(['Train'], loc='lower right')\n",
        "plt.show()"
      ],
      "execution_count": 19,
      "outputs": [
        {
          "output_type": "display_data",
          "data": {
            "image/png": "[encoded data removed]",
            "text/plain": [
              "<Figure size 432x288 with 1 Axes>"
            ]
          },
          "metadata": {
            "tags": [],
            "needs_background": "light"
          }
        }
      ]
    },
    {
      "cell_type": "code",
      "metadata": {
        "id": "qibCxqhIo4Yu"
      },
      "source": [
        "def printpred(sample):\n",
        "  sample = tokenizer.texts_to_sequences(sample)\n",
        "  sample = pad_sequences(sample, maxlen=53, dtype='int32', value=0)\n",
        "  sentimen = model.predict(sample,batch_size=1,verbose = 2)[0]\n",
        "  if(np.argmax(sentimen) == 0):\n",
        "    print(\"Low\")\n",
        "  elif (np.argmax(sentimen) == 1):\n",
        "    print(\"High\")"
      ],
      "execution_count": 20,
      "outputs": []
    },
    {
      "cell_type": "code",
      "metadata": {
        "colab": {
          "base_uri": "https://localhost:8080/"
        },
        "id": "u6yg2DLXo5QJ",
        "outputId": "deaf7912-5c70-46c3-a0a6-63f698898e15"
      },
      "source": [
        "#Prediksi Hasil Model\n",
        "sample1 = [\"Suami sangat kasar dan sering melakukan KDRT terhadap saya\"]\n",
        "sample2 = [\"Saya menemukan bayi di kolong jembatan. Sepertinya baru dibuang tadi malam\"]\n",
        "\n",
        "print(\"\".join(sample1))\n",
        "printpred(sample1)\n",
        "\n",
        "print(\"\".join(sample2))\n",
        "printpred(sample2)"
      ],
      "execution_count": 21,
      "outputs": [
        {
          "output_type": "stream",
          "text": [
            "Suami sangat kasar dan sering melakukan KDRT terhadap saya\n",
            "1/1 - 1s\n",
            "High\n",
            "Saya menemukan bayi di kolong jembatan. Sepertinya baru dibuang tadi malam\n",
            "1/1 - 0s\n",
            "Low\n"
          ],
          "name": "stdout"
        }
      ]
    },
    {
      "cell_type": "code",
      "metadata": {
        "colab": {
          "base_uri": "https://localhost:8080/",
          "height": 166
        },
        "id": "qYpe7zrno6J_",
        "outputId": "79a69947-cb68-435c-e2fc-13dd16458e05"
      },
      "source": [
        "import json\n",
        "json.dumps(tokenizer.word_index)"
      ],
      "execution_count": 22,
      "outputs": [
        {
          "output_type": "execute_result",
          "data": {
            "application/vnd.google.colaboratory.intrinsic+json": {
              "type": "string"
            },
            "text/plain": [
              "'{\"saya\": 1, \"dan\": 2, \"di\": 3, \"sering\": 4, \"anak\": 5, \"oleh\": 6, \"tidak\": 7, \"dengan\": 8, \"yang\": 9, \"dia\": 10, \"aku\": 11, \"ibu\": 12, \"karena\": 13, \"untuk\": 14, \"rumah\": 15, \"suka\": 16, \"tetangga\": 17, \"sangat\": 18, \"suami\": 19, \"sekolah\": 20, \"ke\": 21, \"melakukan\": 22, \"saat\": 23, \"pada\": 24, \"ayah\": 25, \"tapi\": 26, \"sekarang\": 27, \"ada\": 28, \"ini\": 29, \"orang\": 30, \"teman\": 31, \"ingin\": 32, \"mereka\": 33, \"kekerasan\": 34, \"jika\": 35, \"pernah\": 36, \"diperkosa\": 37, \"x\": 38, \"pulang\": 39, \"setiap\": 40, \"sudah\": 41, \"mau\": 42, \"adik\": 43, \"dari\": 44, \"ia\": 45, \"kemarin\": 46, \"itu\": 47, \"hingga\": 48, \"sedang\": 49, \"masih\": 50, \"hari\": 51, \"kalau\": 52, \"dalam\": 53, \"ketika\": 54, \"melihat\": 55, \"sama\": 56, \"fisik\": 57, \"akan\": 58, \"ternyata\": 59, \"trauma\": 60, \"juga\": 61, \"sampai\": 62, \"kasar\": 63, \"padahal\": 64, \"seorang\": 65, \"anaknya\": 66, \"dipaksa\": 67, \"kakak\": 68, \"banget\": 69, \"sakit\": 70, \"selalu\": 71, \"bahwa\": 72, \"merasa\": 73, \"melaporkan\": 74, \"tolong\": 75, \"takut\": 76, \"lakilaki\": 77, \"badan\": 78, \"bisa\": 79, \"mama\": 80, \"pergi\": 81, \"setelah\": 82, \"depan\": 83, \"lalu\": 84, \"tersebut\": 85, \"bapak\": 86, \"perempuan\": 87, \"lagi\": 88, \"memukul\": 89, \"memaksa\": 90, \"sekali\": 91, \"om\": 92, \"kali\": 93, \"temantemannya\": 94, \"emosi\": 95, \"tahun\": 96, \"tangan\": 97, \"mengatai\": 98, \"papa\": 99, \"malam\": 100, \"wanita\": 101, \"mengancam\": 102, \"adalah\": 103, \"menemukan\": 104, \"uang\": 105, \"memiliki\": 106, \"tanpa\": 107, \"pacar\": 108, \"seksual\": 109, \"mengalami\": 110, \"harus\": 111, \"bayi\": 112, \"menangis\": 113, \"seperti\": 114, \"guru\": 115, \"masuk\": 116, \"tibatiba\": 117, \"sebagai\": 118, \"keluarga\": 119, \"pagi\": 120, \"dekat\": 121, \"diri\": 122, \"makan\": 123, \"tua\": 124, \"mabuk\": 125, \"terhadap\": 126, \"mulai\": 127, \"bertemu\": 128, \"lain\": 129, \"kasus\": 130, \"berani\": 131, \"ibunya\": 132, \"daerah\": 133, \"memberikan\": 134, \"dibully\": 135, \"main\": 136, \"diancam\": 137, \"dipukuli\": 138, \"mendapatkan\": 139, \"hubungan\": 140, \"bekerja\": 141, \"merendahkan\": 142, \"berumur\": 143, \"istri\": 144, \"selamat\": 145, \"mohon\": 146, \"baru\": 147, \"hal\": 148, \"kecil\": 149, \"air\": 150, \"berhubungan\": 151, \"hanya\": 152, \"menganiaya\": 153, \"beberapa\": 154, \"dada\": 155, \"dianiaya\": 156, \"jadi\": 157, \"dilecehkan\": 158, \"dilakukan\": 159, \"punya\": 160, \"pemerkosaan\": 161, \"menjadi\": 162, \"ngga\": 163, \"tiba\": 164, \"sd\": 165, \"nilai\": 166, \"sore\": 167, \"satu\": 168, \"menggunakan\": 169, \"kerap\": 170, \"mental\": 171, \"lainnya\": 172, \"akhirnya\": 173, \"malu\": 174, \"namun\": 175, \"bagian\": 176, \"kepada\": 177, \"katakata\": 178, \"telah\": 179, \"jalanan\": 180, \"sendirian\": 181, \"mukul\": 182, \"mantan\": 183, \"tinggal\": 184, \"kepala\": 185, \"kulit\": 186, \"sekolahnya\": 187, \"pencabulan\": 188, \"benci\": 189, \"membuat\": 190, \"belajar\": 191, \"biasanya\": 192, \"kerja\": 193, \"meninggalkan\": 194, \"kembali\": 195, \"benda\": 196, \"suaminya\": 197, \"pria\": 198, \"keras\": 199, \"suatu\": 200, \"bawah\": 201, \"gurunya\": 202, \"istrinya\": 203, \"tante\": 204, \"banyak\": 205, \"marah\": 206, \"selama\": 207, \"besar\": 208, \"terjadi\": 209, \"ga\": 210, \"secara\": 211, \"bayinya\": 212, \"terlihat\": 213, \"kejadian\": 214, \"umur\": 215, \"gang\": 216, \"mendengar\": 217, \"smp\": 218, \"memukuli\": 219, \"ditinggal\": 220, \"mukulin\": 221, \"tk\": 222, \"segerombolan\": 223, \"keluar\": 224, \"membunuh\": 225, \"adanya\": 226, \"segera\": 227, \"bapaknya\": 228, \"ketakutan\": 229, \"kenalan\": 230, \"tubuh\": 231, \"lah\": 232, \"bilang\": 233, \"dipukul\": 234, \"bermain\": 235, \"kardus\": 236, \"perlakuan\": 237, \"anakanak\": 238, \"mendapat\": 239, \"nakal\": 240, \"memegang\": 241, \"emosinya\": 242, \"bantu\": 243, \"sekelompok\": 244, \"jalan\": 245, \"mencari\": 246, \"mengaku\": 247, \"udah\": 248, \"suara\": 249, \"butuh\": 250, \"sungguh\": 251, \"tidur\": 252, \"dipecat\": 253, \"menikah\": 254, \"berguna\": 255, \"orangtuanya\": 256, \"menginap\": 257, \"saja\": 258, \"y\": 259, \"tiri\": 260, \"bulan\": 261, \"laki\": 262, \"sejak\": 263, \"tadi\": 264, \"sebuah\": 265, \"masturbasi\": 266, \"dikenal\": 267, \"belum\": 268, \"dosen\": 269, \"dengannya\": 270, \"temannya\": 271, \"bunuh\": 272, \"pacarnya\": 273, \"lelaki\": 274, \"kata\": 275, \"umpatan\": 276, \"korban\": 277, \"temanteman\": 278, \"lebam\": 279, \"pekerjaan\": 280, \"memar\": 281, \"staff\": 282, \"perilaku\": 283, \"14\": 284, \"habis\": 285, \"jarang\": 286, \"stress\": 287, \"pasti\": 288, \"melecehkan\": 289, \"tumpul\": 290, \"bokong\": 291, \"semenjak\": 292, \"menampar\": 293, \"kereta\": 294, \"berjudi\": 295, \"anjing\": 296, \"babi\": 297, \"mengambil\": 298, \"melapor\": 299, \"berada\": 300, \"memperkosa\": 301, \"bertengkar\": 302, \"tindakan\": 303, \"a\": 304, \"orangtua\": 305, \"bercerai\": 306, \"judi\": 307, \"tanya\": 308, \"bantuan\": 309, \"dokter\": 310, \"disodomi\": 311, \"dibius\": 312, \"dialami\": 313, \"nafsu\": 314, \"bersama\": 315, \"kami\": 316, \"tempat\": 317, \"hamil\": 318, \"berdarah\": 319, \"6\": 320, \"seringkali\": 321, \"pendiam\": 322, \"pingsan\": 323, \"kabar\": 324, \"sambil\": 325, \"baik\": 326, \"goblok\": 327, \"gatau\": 328, \"buat\": 329, \"disiram\": 330, \"panas\": 331, \"diberi\": 332, \"sehari\": 333, \"dilarang\": 334, \"hotel\": 335, \"jam\": 336, \"pantas\": 337, \"jelek\": 338, \"menjual\": 339, \"mencurigakan\": 340, \"membawa\": 341, \"perdagangan\": 342, \"ditendang\": 343, \"anakanaknya\": 344, \"sebelah\": 345, \"sayang\": 346, \"biadab\": 347, \"kalangan\": 348, \"monyet\": 349, \"bercanda\": 350, \"publik\": 351, \"disetubuhi\": 352, \"nomor\": 353, \"muridnya\": 354, \"dicubit\": 355, \"diusut\": 356, \"luar\": 357, \"capek\": 358, \"diasuh\": 359, \"ayahnya\": 360, \"mengamen\": 361, \"hancur\": 362, \"kabur\": 363, \"pakaian\": 364, \"mencoba\": 365, \"sma\": 366, \"mungkin\": 367, \"tahu\": 368, \"celana\": 369, \"meminta\": 370, \"salah\": 371, \"disana\": 372, \"aneh\": 373, \"sang\": 374, \"kantor\": 375, \"didiknya\": 376, \"memenuhi\": 377, \"verbal\": 378, \"jawab\": 379, \"awalnya\": 380, \"kamar\": 381, \"benar\": 382, \"pembantu\": 383, \"menendang\": 384, \"rumahnya\": 385, \"disuruh\": 386, \"intim\": 387, \"z\": 388, \"berkebutuhan\": 389, \"khusus\": 390, \"dikatai\": 391, \"pake\": 392, \"asrama\": 393, \"meninggal\": 394, \"kelas\": 395, \"jembatan\": 396, \"mengatangatai\": 397, \"preman\": 398, \"bantuannya\": 399, \"keponakan\": 400, \"warna\": 401, \"wajah\": 402, \"berbeda\": 403, \"ngomong\": 404, \"disiksa\": 405, \"melahirkan\": 406, \"10\": 407, \"berisik\": 408, \"alat\": 409, \"harinya\": 410, \"dibawa\": 411, \"manusia\": 412, \"siang\": 413, \"diluar\": 414, \"narkoba\": 415, \"kasih\": 416, \"12\": 417, \"nafkah\": 418, \"gosip\": 419, \"albino\": 420, \"dipermalukan\": 421, \"gimana\": 422, \"menantu\": 423, \"semua\": 424, \"sedih\": 425, \"lebih\": 426, \"comberan\": 427, \"dipegang\": 428, \"berpergian\": 429, \"informasi\": 430, \"kelompok\": 431, \"mempermalukan\": 432, \"pelecehan\": 433, \"murid\": 434, \"apakah\": 435, \"berbuat\": 436, \"9\": 437, \"hukuman\": 438, \"menyiram\": 439, \"mobil\": 440, \"ketua\": 441, \"rt\": 442, \"kota\": 443, \"2\": 444, \"lama\": 445, \"seluruh\": 446, \"melarang\": 447, \"mentalnya\": 448, \"terus\": 449, \"mesum\": 450, \"bodoh\": 451, \"mengatakan\": 452, \"apapun\": 453, \"depannya\": 454, \"sebutan\": 455, \"setan\": 456, \"lihat\": 457, \"institusi\": 458, \"kurang\": 459, \"ajar\": 460, \"pengemis\": 461, \"letih\": 462, \"ucapan\": 463, \"sahabat\": 464, \"kotor\": 465, \"mengincar\": 466, \"perusahaan\": 467, \"begal\": 468, \"payudara\": 469, \"dapet\": 470, \"birahinya\": 471, \"segala\": 472, \"mengikuti\": 473, \"bagaimana\": 474, \"cara\": 475, \"percaya\": 476, \"pisau\": 477, \"tindak\": 478, \"gangguan\": 479, \"keadilan\": 480, \"mencium\": 481, \"pakai\": 482, \"ditinggalkan\": 483, \"dihamili\": 484, \"bertanggung\": 485, \"penganiayaan\": 486, \"pentungan\": 487, \"jijik\": 488, \"cek\": 489, \"busana\": 490, \"polisi\": 491, \"pak\": 492, \"rasanya\": 493, \"lepas\": 494, \"pas\": 495, \"para\": 496, \"ikut\": 497, \"kalo\": 498, \"ditampar\": 499, \"terkena\": 500, \"temen\": 501, \"menyuruh\": 502, \"aman\": 503, \"parah\": 504, \"mengurung\": 505, \"keadaan\": 506, \"nyaman\": 507, \"bersosialisasi\": 508, \"akhir\": 509, \"tajam\": 510, \"mengemis\": 511, \"malah\": 512, \"bibir\": 513, \"agar\": 514, \"sengaja\": 515, \"diberikan\": 516, \"dibunuh\": 517, \"ditelantarkan\": 518, \"membentak\": 519, \"gamau\": 520, \"barang\": 521, \"berdarahdarah\": 522, \"membenci\": 523, \"foto\": 524, \"kuliah\": 525, \"badannya\": 526, \"staf\": 527, \"dikatain\": 528, \"idiot\": 529, \"dengarnya\": 530, \"nulis\": 531, \"nangis\": 532, \"ditelusuri\": 533, \"balsam\": 534, \"mengimingimingi\": 535, \"kepercayaan\": 536, \"hilang\": 537, \"mengeluh\": 538, \"kedua\": 539, \"tuanya\": 540, \"magang\": 541, \"tubuhnya\": 542, \"diraba\": 543, \"melampiaskan\": 544, \"isi\": 545, \"merupakan\": 546, \"dibawah\": 547, \"alamatnya\": 548, \"b\": 549, \"4\": 550, \"boss\": 551, \"permintaannya\": 552, \"berasal\": 553, \"umurnya\": 554, \"beredar\": 555, \"rendah\": 556, \"membelanya\": 557, \"dipanggil\": 558, \"tementemen\": 559, \"hati\": 560, \"ngelawan\": 561, \"privat\": 562, \"bareng\": 563, \"kejelasan\": 564, \"nenek\": 565, \"kepadanya\": 566, \"terusterusan\": 567, \"sedangkan\": 568, \"menyebarkan\": 569, \"menyakitkan\": 570, \"segansegan\": 571, \"atau\": 572, \"melempar\": 573, \"maupun\": 574, \"ras\": 575, \"menghina\": 576, \"maksa\": 577, \"tengah\": 578, \"harmonis\": 579, \"paksa\": 580, \"alasan\": 581, \"jelas\": 582, \"dibuang\": 583, \"memberi\": 584, \"memarahi\": 585, \"cuma\": 586, \"karna\": 587, \"menerima\": 588, \"alami\": 589, \"pemerkosaaan\": 590, \"mengembalikan\": 591, \"sensitif\": 592, \"plat\": 593, \"menafkahi\": 594, \"ngantor\": 595, \"simpanan\": 596, \"rasa\": 597, \"mengingatkan\": 598, \"lahir\": 599, \"orangnya\": 600, \"bersekolah\": 601, \"pencuri\": 602, \"psk\": 603, \"memakai\": 604, \"tentang\": 605, \"seks\": 606, \"kalah\": 607, \"mencubit\": 608, \"cantik\": 609, \"sekelasnya\": 610, \"tatapan\": 611, \"gaada\": 612, \"otak\": 613, \"merantau\": 614, \"kehilangan\": 615, \"melakukannya\": 616, \"menceraikan\": 617, \"dimintai\": 618, \"paman\": 619, \"membuka\": 620, \"sesenggukan\": 621, \"kejadiannya\": 622, \"minggu\": 623, \"pengangguran\": 624, \"sampe\": 625, \"dipukulin\": 626, \"ataupun\": 627, \"dibanting\": 628, \"masalah\": 629, \"berkalikali\": 630, \"cerai\": 631, \"sepele\": 632, \"dulu\": 633, \"tutur\": 634, \"cenderung\": 635, \"kosong\": 636, \"mamah\": 637, \"kaya\": 638, \"negeri\": 639, \"kawasan\": 640, \"pelaku\": 641, \"membius\": 642, \"pramugari\": 643, \"mengeluhkan\": 644, \"belakang\": 645, \"cerita\": 646, \"semoga\": 647, \"ditangani\": 648, \"kaki\": 649, \"patah\": 650, \"seenaknya\": 651, \"dikasih\": 652, \"ranking\": 653, \"berangkat\": 654, \"ngatangatain\": 655, \"binatang\": 656, \"ibuibu\": 657, \"desa\": 658, \"ditahan\": 659, \"bengis\": 660, \"menyakiti\": 661, \"menghukum\": 662, \"bipolar\": 663, \"soalnya\": 664, \"ngatain\": 665, \"telusuri\": 666, \"kandungnya\": 667, \"saudara\": 668, \"lakilakinya\": 669, \"kembar\": 670, \"kampus\": 671, \"d\": 672, \"melaksanakan\": 673, \"aksinya\": 674, \"kkn\": 675, \"psikolog\": 676, \"terimakasih\": 677, \"kerapkali\": 678, \"bunda\": 679, \"sinting\": 680, \"bisnis\": 681, \"diikat\": 682, \"padanya\": 683, \"pedofil\": 684, \"yg\": 685, \"sy\": 686, \"terdapat\": 687, \"fitnah\": 688, \"tau\": 689, \"surat\": 690, \"sampah\": 691, \"hidup\": 692, \"gak\": 693, \"tiga\": 694, \"diam\": 695, \"menusuk\": 696, \"depresi\": 697, \"naik\": 698, \"rambut\": 699, \"tertutup\": 700, \"indonesia\": 701, \"tugas\": 702, \"selidiki\": 703, \"jauh\": 704, \"mertua\": 705, \"warga\": 706, \"membantu\": 707, \"khalayak\": 708, \"putus\": 709, \"meneror\": 710, \"terpikirkan\": 711, \"direndahkan\": 712, \"semenamena\": 713, \"memuaskan\": 714, \"dikatakatai\": 715, \"dimakimaki\": 716, \"darinya\": 717, \"kebingungan\": 718, \"datang\": 719, \"muka\": 720, \"baju\": 721, \"jahat\": 722, \"cepat\": 723, \"video\": 724, \"rekaman\": 725, \"kdrt\": 726, \"terganggu\": 727, \"uangnya\": 728, \"sebelumnya\": 729, \"kerumah\": 730, \"langsung\": 731, \"usut\": 732, \"menjambak\": 733, \"tembok\": 734, \"setempat\": 735, \"atasan\": 736, \"baseball\": 737, \"melanjutkan\": 738, \"disitu\": 739, \"tertidur\": 740, \"melayani\": 741, \"perut\": 742, \"menggerayangi\": 743, \"tirinya\": 744, \"tp\": 745, \"lulus\": 746, \"keliling\": 747, \"bibi\": 748, \"kenapa\": 749, \"seseorang\": 750, \"kita\": 751, \"motor\": 752, \"kosan\": 753, \"ipar\": 754, \"menyebabkan\": 755, \"dirawat\": 756, \"ujian\": 757, \"tinggi\": 758, \"keterbelakangan\": 759, \"atasannya\": 760, \"membunuhnya\": 761, \"dua\": 762, \"berjualan\": 763, \"rel\": 764, \"berkata\": 765, \"mengurus\": 766, \"omku\": 767, \"tanah\": 768, \"mencuri\": 769, \"jg\": 770, \"pikir\": 771, \"lapor\": 772, \"tentangga\": 773, \"dijebak\": 774, \"katakatanya\": 775, \"bersembunyi\": 776, \"sodom\": 777, \"sadar\": 778, \"diculik\": 779, \"sadarkan\": 780, \"jawaban\": 781, \"biasa\": 782, \"taman\": 783, \"ruangan\": 784, \"olehnya\": 785, \"tangga\": 786, \"senjata\": 787, \"pelabuhan\": 788, \"dijual\": 789, \"nikahi\": 790, \"aktivitas\": 791, \"tolol\": 792, \"menyukai\": 793, \"penampilan\": 794, \"operasi\": 795, \"plastik\": 796, \"nanti\": 797, \"iseng\": 798, \"mengunggah\": 799, \"selfi\": 800, \"internet\": 801, \"dapat\": 802, \"selfie\": 803, \"digerayangi\": 804, \"diselidiki\": 805, \"alumni\": 806, \"slb\": 807, \"tertangani\": 808, \"dipegangpegang\": 809, \"bego\": 810, \"diuntung\": 811, \"harap\": 812, \"penyelesaian\": 813, \"terdengar\": 814, \"teriakan\": 815, \"bibirnya\": 816, \"cacat\": 817, \"diharuskan\": 818, \"ngancem\": 819, \"kerjanya\": 820, \"bener\": 821, \"istirahat\": 822, \"melebihi\": 823, \"diperlakukan\": 824, \"bosnya\": 825, \"raba\": 826, \"bermoral\": 827, \"menertawakan\": 828, \"terluka\": 829, \"hidung\": 830, \"belang\": 831, \"menjadikan\": 832, \"penghasil\": 833, \"kemarahannya\": 834, \"keesokkan\": 835, \"tersebuat\": 836, \"kerumahnya\": 837, \"tuna\": 838, \"rungu\": 839, \"menyenangkan\": 840, \"no\": 841, \"menuruti\": 842, \"mengintimidasi\": 843, \"mampu\": 844, \"kelainan\": 845, \"balita\": 846, \"kesakitan\": 847, \"kejanggalan\": 848, \"sya\": 849, \"dipandang\": 850, \"dikucilkan\": 851, \"kelasku\": 852, \"merobek\": 853, \"bajuku\": 854, \"menyibakkan\": 855, \"rokku\": 856, \"ditertawakan\": 857, \"kesalahan\": 858, \"bulu\": 859, \"lebat\": 860, \"dengernya\": 861, \"terkadang\": 862, \"membicarakan\": 863, \"dibegal\": 864, \"seharian\": 865, \"halte\": 866, \"liat\": 867, \"mudah\": 868, \"ngelampiasin\": 869, \"kursinya\": 870, \"cari\": 871, \"diajak\": 872, \"gambar\": 873, \"gamabr\": 874, \"grup\": 875, \"kacau\": 876, \"flyover\": 877, \"merpati\": 878, \"tenggara\": 879, \"1\": 880, \"payudaranya\": 881, \"iblis\": 882, \"disayang\": 883, \"dicintai\": 884, \"pembullyan\": 885, \"bunga\": 886, \"7\": 887, \"kantornya\": 888, \"rasisme\": 889, \"berdasarkan\": 890, \"dibangunkan\": 891, \"kapanya\": 892, \"keluargaku\": 893, \"menyodomi\": 894, \"membawabawa\": 895, \"demikian\": 896, \"kls\": 897, \"fisikini\": 898, \"anaku\": 899, \"g\": 900, \"lg\": 901, \"papah\": 902, \"rentenir\": 903, \"meminjamkan\": 904, \"dipinjam\": 905, \"biaya\": 906, \"berobat\": 907, \"bersekongkol\": 908, \"lukaluka\": 909, \"barusan\": 910, \"bhigh456xyz\": 911, \"dengar\": 912, \"abusive\": 913, \"sekalipun\": 914, \"penyakit\": 915, \"bertanggungjawab\": 916, \"keluarganya\": 917, \"terkecuali\": 918, \"mengharuskan\": 919, \"menahan\": 920, \"sapu\": 921, \"lidi\": 922, \"gesper\": 923, \"makanya\": 924, \"mendidik\": 925, \"pendidikan\": 926, \"bercerita\": 927, \"sisi\": 928, \"bagaikan\": 929, \"kompak\": 930, \"lenyap\": 931, \"dunia\": 932, \"megang\": 933, \"apalagi\": 934, \"memandang\": 935, \"merendahkannya\": 936, \"doang\": 937, \"rangking\": 938, \"ngekos\": 939, \"kamarnya\": 940, \"kosannya\": 941, \"dalammereka\": 942, \"mengiyakan\": 943, \"curiga\": 944, \"terkunci\": 945, \"menghilang\": 946, \"berita\": 947, \"memikirkan\": 948, \"dibuli\": 949, \"got\": 950, \"dibandingbandingkan\": 951, \"memainkan\": 952, \"kelaminnya\": 953, \"berteriak\": 954, \"memakimaki\": 955, \"yaitu\": 956, \"irt\": 957, \"rapot\": 958, \"nyiksa\": 959, \"sakitsakitan\": 960, \"mamanya\": 961, \"nggak\": 962, \"satupun\": 963, \"bertindak\": 964, \"laporan\": 965, \"menganggap\": 966, \"gay\": 967, \"teror\": 968, \"memberikannya\": 969, \"tergadap\": 970, \"hadapan\": 971, \"meremehkan\": 972, \"laknat\": 973, \"o\": 974, \"guruguru\": 975, \"mengajar\": 976, \"memintaminta\": 977, \"menggendong\": 978, \"sepertinya\": 979, \"harga\": 980, \"menghujat\": 981, \"gagal\": 982, \"berbicara\": 983, \"perumahan\": 984, \"penerbangan\": 985, \"direktur\": 986, \"utamanya\": 987, \"terjebak\": 988, \"sekarat\": 989, \"kenal\": 990, \"flamboyan\": 991, \"tindakannya\": 992, \"koleganya\": 993, \"pistol\": 994, \"mayatnya\": 995, \"disembunyikan\": 996, \"siapa\": 997, \"sirih\": 998, \"beserta\": 999, \"asramanya\": 1000, \"kurus\": 1001, \"diperbolehkan\": 1002, \"les\": 1003, \"perintahnya\": 1004, \"kejam\": 1005, \"mengatasinya\": 1006, \"stres\": 1007, \"dipulangkan\": 1008, \"menelantarkan\": 1009, \"boleh\": 1010, \"segan\": 1011, \"ngebentak\": 1012, \"kotoran\": 1013, \"yatim\": 1014, \"piatu\": 1015, \"tanteku\": 1016, \"rumahku\": 1017, \"nurutin\": 1018, \"suruhan\": 1019, \"stabil\": 1020, \"berharga\": 1021, \"bukanlah\": 1022, \"melawan\": 1023, \"smk\": 1024, \"mengadu\": 1025, \"sekelompk\": 1026, \"seangkatan\": 1027, \"izinkan\": 1028, \"terkhianati\": 1029, \"kegiatan\": 1030, \"klinis\": 1031, \"konseling\": 1032, \"disebut\": 1033, \"pengaruh\": 1034, \"kolega\": 1035, \"keperluan\": 1036, \"gerayangi\": 1037, \"snagat\": 1038, \"kampung\": 1039, \"keberadaannya\": 1040, \"sgt\": 1041, \"meresahkan\": 1042, \"nikah\": 1043, \"mengatasi\": 1044, \"ditindak\": 1045, \"lanjuti\": 1046, \"tersbut\": 1047, \"selembar\": 1048, \"membuang\": 1049, \"usianya\": 1050, \"kak\": 1051, \"tengahtengah\": 1052, \"temperamental\": 1053, \"melepaskan\": 1054, \"tetap\": 1055, \"remaja\": 1056, \"diremas\": 1057, \"masker\": 1058, \"topi\": 1059, \"hotam\": 1060, \"jaket\": 1061, \"hoodie\": 1062, \"berwarna\": 1063, \"abuabu\": 1064, \"j\": 1065, \"ngeliat\": 1066, \"bullying\": 1067, \"keriting\": 1068, \"kerjaanya\": 1069, \"mabokmabokan\": 1070, \"menanggung\": 1071, \"hidupnya\": 1072, \"fotofoto\": 1073, \"kasarnya\": 1074, \"serba\": 1075, \"memaki\": 1076, \"pemuas\": 1077, \"ibuku\": 1078, \"wna\": 1079, \"lakukan\": 1080, \"ditentang\": 1081, \"sesuai\": 1082, \"keinginannya\": 1083, \"masa\": 1084, \"beliau\": 1085, \"pecah\": 1086, \"pertengkaran\": 1087, \"hebat\": 1088, \"pasutri\": 1089, \"rumahmasalahnya\": 1090, \"mengganggu\": 1091, \"bantingan\": 1092, \"lokasi\": 1093, \"xyz\": 1094, \"sebenarnya\": 1095, \"dilihat\": 1096, \"tanggung\": 1097, \"bejat\": 1098, \"ngedate\": 1099, \"dikelilingi\": 1100, \"dibekam\": 1101, \"mulutnya\": 1102, \"ramairamai\": 1103, \"menghilangkan\": 1104, \"puskesmas\": 1105, \"dijewer\": 1106, \"dirut\": 1107, \"program\": 1108, \"setleah\": 1109, \"inginkan\": 1110, \"memfitnah\": 1111, \"atas\": 1112, \"dalih\": 1113, \"ekonomi\": 1114, \"cukup\": 1115, \"gendut\": 1116, \"menarik\": 1117, \"rawan\": 1118, \"asing\": 1119, \"menumpang\": 1120, \"saudaranya\": 1121, \"sepupu\": 1122, \"marahmarah\": 1123, \"percekcokan\": 1124, \"bajunya\": 1125, \"ditarik\": 1126, \"dirobek\": 1127, \"dalamnya\": 1128, \"ditari\": 1129, \"minum\": 1130, \"minuman\": 1131, \"detik\": 1132, \"ganggua\": 1133, \"longgar\": 1134, \"nyiram\": 1135, \"diucapkan\": 1136, \"melindungi\": 1137, \"ditonjok\": 1138, \"memarmemar\": 1139, \"kadang\": 1140, \"berkatakata\": 1141, \"memanfaatkan\": 1142, \"menunjukkan\": 1143, \"asusila\": 1144, \"ketemu\": 1145, \"celurit\": 1146, \"tawuran\": 1147, \"keadaannya\": 1148, \"koma\": 1149, \"gasuka\": 1150, \"sebangku\": 1151, \"ngomongnya\": 1152, \"malumaluin\": 1153, \"nyebar\": 1154, \"rahasia\": 1155, \"dilarikan\": 1156, \"dimanfaatkan\": 1157, \"berteman\": 1158, \"mantunya\": 1159, \"psikiater\": 1160, \"menyetorkan\": 1161, \"mengurusi\": 1162, \"bahkan\": 1163, \"melihatnya\": 1164, \"pualng\": 1165, \"aborsi\": 1166, \"mengungkitungkit\": 1167, \"menyesal\": 1168, \"ditinggalin\": 1169, \"jakarta\": 1170, \"menjenguk\": 1171, \"mendorongnya\": 1172, \"dioleskan\": 1173, \"terbukti\": 1174, \"balok\": 1175, \"leher\": 1176, \"anggota\": 1177, \"buruk\": 1178, \"membatasi\": 1179, \"barangbarang\": 1180, \"menyuarakan\": 1181, \"kepalanya\": 1182, \"berselingkuh\": 1183, \"memberitahukannya\": 1184, \"ketahuan\": 1185, \"selingkuh\": 1186, \"selingkuhan\": 1187, \"dampaknya\": 1188, \"penyendiri\": 1189, \"normal\": 1190, \"dianggap\": 1191, \"beban\": 1192, \"sial\": 1193, \"mendorong\": 1194, \"sejumlah\": 1195, \"turis\": 1196, \"rasis\": 1197, \"ngelindungin\": 1198, \"bakal\": 1199, \"kayak\": 1200, \"pembuangan\": 1201, \"sekampung\": 1202, \"menolong\": 1203, \"daya\": 1204, \"benjol\": 1205, \"enteng\": 1206, \"nendang\": 1207, \"badanku\": 1208, \"kandungan\": 1209, \"kandungannya\": 1210, \"mencheck\": 1211, \"memanggil\": 1212, \"perasaan\": 1213, \"akal\": 1214, \"antara\": 1215, \"buktinya\": 1216, \"perhan\": 1217, \"lengah\": 1218, \"mengindap\": 1219, \"sepengetahuan\": 1220, \"tahunan\": 1221, \"sopan\": 1222, \"menempeleng\": 1223, \"menginjak\": 1224, \"hormat\": 1225, \"bolakbalik\": 1226, \"camping\": 1227, \"acara\": 1228, \"mendatangi\": 1229, \"camp\": 1230, \"bergerak\": 1231, \"batin\": 1232, \"dikarenakan\": 1233, \"membongkar\": 1234, \"kecurangan\": 1235, \"usbn\": 1236, \"unbk\": 1237, \"dimaki\": 1238, \"roknya\": 1239, \"diangkat\": 1240, \"berpacaran\": 1241, \"35\": 1242, \"paruh\": 1243, \"baya\": 1244, \"meremas\": 1245, \"pun\": 1246, \"minta\": 1247, \"keponakanku\": 1248, \"perkosa\": 1249, \"ayahh\": 1250, \"kotak\": 1251, \"pulas\": 1252, \"berjamjam\": 1253, \"dugaan\": 1254, \"janda\": 1255, \"usaha\": 1256, \"ilegal\": 1257, \"memasarkan\": 1258, \"pekerja\": 1259, \"komersial\": 1260, \"kontruksi\": 1261, \"dilantarkan\": 1262, \"mata\": 1263, \"pelajarannya\": 1264, \"memegangmegang\": 1265, \"privasinya\": 1266, \"heran\": 1267, \"nampar\": 1268, \"nyubit\": 1269, \"men\": 1270, \"tweet\": 1271, \"cuddle\": 1272, \"berpelukan\": 1273, \"setuju\": 1274, \"kesempatan\": 1275, \"consent\": 1276, \"menuju\": 1277, \"mengendarai\": 1278, \"menemaninya\": 1279, \"bandung\": 1280, \"ya\": 1281, \"temani\": 1282, \"perjalanan\": 1283, \"menggrayangi\": 1284, \"menaruh\": 1285, \"balsem\": 1286, \"frustasi\": 1287, \"caranya\": 1288, \"melupakan\": 1289, \"urusan\": 1290, \"ceria\": 1291, \"club\": 1292, \"marsturbasi\": 1293, \"nonjok\": 1294, \"meraba\": 1295, \"terlarang\": 1296, \"ancaman\": 1297, \"berhasil\": 1298, \"perkataannya\": 1299, \"pasar\": 1300, \"bandar\": 1301, \"gaji\": 1302, \"memecat\": 1303, \"karyawan\": 1304, \"perempuannya\": 1305, \"cafe\": 1306, \"barista\": 1307, \"memperkosanya\": 1308, \"perpeloncoan\": 1309, \"atributatribut\": 1310, \"hukumannya\": 1311, \"dijemur\": 1312, \"dipertontonkan\": 1313, \"ngerendahin\": 1314, \"tuli\": 1315, \"make\": 1316, \"telinga\": 1317, \"ngetawain\": 1318, \"nyoba\": 1319, \"intonasinya\": 1320, \"menurut\": 1321, \"populer\": 1322, \"tampan\": 1323, \"perempuanperempuan\": 1324, \"menasehatinya\": 1325, \"perlu\": 1326, \"pergoki\": 1327, \"karir\": 1328, \"apaapa\": 1329, \"bentuk\": 1330, \"pisah\": 1331, \"senang\": 1332, \"membully\": 1333, \"tangis\": 1334, \"seorag\": 1335, \"ujung\": 1336, \"waktu\": 1337, \"tangisan\": 1338, \"batyi\": 1339, \"ayng\": 1340, \"sedikit\": 1341, \"garagara\": 1342, \"kemampuan\": 1343, \"berpikir\": 1344, \"tai\": 1345, \"tisu\": 1346, \"disetor\": 1347, \"dagangan\": 1348, \"dipermainkan\": 1349, \"diketawakan\": 1350, \"keterbataasannya\": 1351, \"menuntut\": 1352, \"dibentak\": 1353, \"gerbong\": 1354, \"kursi\": 1355, \"priority\": 1356, \"seat\": 1357, \"muridmuridnya\": 1358, \"menggantungkan\": 1359, \"sepatu\": 1360, \"lehernya\": 1361, \"berlari\": 1362, \"pusat\": 1363, \"pemerintahan\": 1364, \"mengendap\": 1365, \"menyetubuhi\": 1366, \"kepadaku\": 1367, \"berkunjung\": 1368, \"alasannya\": 1369, \"menjitak\": 1370, \"menamparku\": 1371, \"dididik\": 1372, \"manusiawi\": 1373, \"membanting\": 1374, \"terkenal\": 1375, \"supermarket\": 1376, \"bapakbapak\": 1377, \"majikannya\": 1378, \"penuh\": 1379, \"enggan\": 1380, \"knp\": 1381, \"bnyk\": 1382, \"bekas\": 1383, \"merah\": 1384, \"sk\": 1385, \"diem\": 1386, \"akhirmedium\": 1387, \"pencurian\": 1388, \"menuliskan\": 1389, \"pengakuan\": 1390, \"dosa\": 1391, \"kapel\": 1392, \"romo\": 1393, \"bertugas\": 1394, \"rabaraba\": 1395, \"dicium\": 1396, \"rumor\": 1397, \"lurus\": 1398, \"pegang\": 1399, \"masalahnya\": 1400, \"pantat\": 1401, \"peduli\": 1402, \"susah\": 1403, \"mengecewakan\": 1404, \"staffnya\": 1405, \"menceritakan\": 1406, \"aibaib\": 1407, \"kenapanapa\": 1408, \"semakin\": 1409, \"emosional\": 1410, \"ngelontarin\": 1411, \"dinafkahi\": 1412, \"trotoar\": 1413, \"sembilan\": 1414, \"lima\": 1415, \"mememnuhi\": 1416, \"hasratnya\": 1417, \"imingiming\": 1418, \"komplek\": 1419, \"benuh\": 1420, \"bakteri\": 1421, \"dilempar\": 1422, \"penghapus\": 1423, \"papan\": 1424, \"tulis\": 1425, \"papaku\": 1426, \"ninggalin\": 1427, \"gapernah\": 1428, \"balik\": 1429, \"kekeraasan\": 1430, \"mahasiswanya\": 1431, \"semester\": 1432, \"broken\": 1433, \"home\": 1434, \"dituntut\": 1435, \"sempurna\": 1436, \"bat\": 1437, \"berusaha\": 1438, \"digubris\": 1439, \"buangan\": 1440, \"keterbatasan\": 1441, \"membolehkan\": 1442, \"kan\": 1443, \"kehidupan\": 1444, \"membantah\": 1445, \"ditanya\": 1446, \"beli\": 1447, \"aksesorisyang\": 1448, \"aksesorisnya\": 1449, \"berjalan\": 1450, \"diatas\": 1451, \"rak\": 1452, \"mengapung\": 1453, \"dicegat\": 1454, \"memecahkan\": 1455, \"botol\": 1456, \"menghantamkannya\": 1457, \"ribut\": 1458, \"mainmain\": 1459, \"dipikirkan\": 1460, \"terlebih\": 1461, \"dahulu\": 1462, \"dampak\": 1463, \"kedepannya\": 1464, \"mengucapkan\": 1465, \"mengumpat\": 1466, \"menyiksa\": 1467, \"ayahku\": 1468, \"neneknya\": 1469, \"lemari\": 1470, \"gerombolan\": 1471, \"penjahat\": 1472, \"koko\": 1473, \"adek\": 1474, \"sekolahh\": 1475, \"ekskul\": 1476, \"aja\": 1477, \"membujuknya\": 1478, \"psikis\": 1479, \"bagus\": 1480, \"kelasnya\": 1481, \"tak\": 1482, \"hentinya\": 1483, \"menenangkan\": 1484, \"bicara\": 1485, \"nsmun\": 1486, \"diusir\": 1487, \"aksi\": 1488, \"jahatnya\": 1489, \"dilaporkan\": 1490, \"mengakui\": 1491, \"tetangganya\": 1492, \"dikeluarkan\": 1493, \"mendaftar\": 1494, \"dibiayi\": 1495, \"katanya\": 1496, \"mendisiplinkan\": 1497, \"5\": 1498, \"menyiramkan\": 1499, \"terulang\": 1500, \"proses\": 1501, \"nemu\": 1502, \"hampiri\": 1503, \"diimingimingi\": 1504, \"penipu\": 1505, \"terbangun\": 1506, \"taruh\": 1507, \"cctv\": 1508, \"melepuh\": 1509, \"kakaknya\": 1510, \"lebamlebam\": 1511, \"suamiku\": 1512, \"denganku\": 1513, \"memang\": 1514, \"memegangku\": 1515, \"mengelus\": 1516, \"kontak\": 1517, \"melewati\": 1518, \"lewati\": 1519, \"motornya\": 1520, \"bingung\": 1521, \"kemana\": 1522, \"supaya\": 1523, \"dihukum\": 1524, \"seberat\": 1525, \"beratnya\": 1526, \"berusia\": 1527, \"menghamili\": 1528, \"pengguna\": 1529, \"didiagnisos\": 1530, \"gegar\": 1531, \"menyayangi\": 1532, \"apa\": 1533, \"mentangmentang\": 1534, \"perginya\": 1535, \"dar\": 1536, \"melampiarskan\": 1537, \"bossnya\": 1538, \"pangkat\": 1539, \"nyiramin\": 1540, \"dipisahkan\": 1541, \"jatuh\": 1542, \"asuhan\": 1543, \"meeting\": 1544, \"bos\": 1545, \"sayatapi\": 1546, \"dikunci\": 1547, \"dilemahkan\": 1548, \"bius\": 1549, \"mengkonfrontasinya\": 1550, \"arah\": 1551, \"mendapati\": 1552, \"dadanya\": 1553, \"diskotik\": 1554, \"ruang\": 1555, \"paling\": 1556, \"keanehan\": 1557, \"tulangnya\": 1558, \"pasien\": 1559, \"jiwa\": 1560, \"barat\": 1561, \"menghargai\": 1562, \"pertamanya\": 1563, \"mantu\": 1564, \"berucap\": 1565, \"pembullyian\": 1566, \"geng\": 1567, \"melindunginya\": 1568, \"mengasong\": 1569, \"dimasukkan\": 1570, \"kontainer\": 1571, \"kesadaran\": 1572, \"tabungan\": 1573, \"tulang\": 1574, \"ekor\": 1575, \"bermasalah\": 1576, \"bu\": 1577, \"si\": 1578, \"sekampusnya\": 1579, \"mengatakannya\": 1580, \"omom\": 1581, \"berdaya\": 1582, \"dirasisin\": 1583, \"kulitnya\": 1584, \"hitam\": 1585, \"pakaiannya\": 1586, \"terlalu\": 1587, \"terbuka\": 1588, \"lemparan\": 1589, \"batu\": 1590, \"marahin\": 1591, \"emang\": 1592, \"sih\": 1593, \"nyakitin\": 1594, \"disayat\": 1595, \"nada\": 1596, \"ngarepin\": 1597, \"omnya\": 1598, \"gemas\": 1599, \"sehingga\": 1600, \"didiagnosis\": 1601, \"skizofrenia\": 1602, \"hawa\": 1603, \"nafsunya\": 1604, \"toilet\": 1605, \"umum\": 1606, \"dicabuli\": 1607, \"sehabis\": 1608, \"maling\": 1609, \"menjerit\": 1610, \"menyewakan\": 1611, \"berkeliling\": 1612, \"diduga\": 1613, \"beralamatkan\": 1614, \"melati\": 1615, \"sepuluh\": 1616, \"memasang\": 1617, \"cabul\": 1618, \"bully\": 1619, \"kelompoknya\": 1620, \"komplotan\": 1621, \"asongan\": 1622, \"dijodohkan\": 1623, \"cinta\": 1624, \"diantara\": 1625, \"tersiksa\": 1626, \"pernikahan\": 1627, \"dikatakan\": 1628, \"pelacur\": 1629, \"bajingan\": 1630, \"menyentuh\": 1631, \"memperlihatkan\": 1632, \"ketidaknyamanan\": 1633, \"rasakan\": 1634, \"sanggup\": 1635, \"mengadopsi\": 1636, \"membantingnya\": 1637, \"memukulnya\": 1638, \"menamparnya\": 1639, \"setelahnya\": 1640}'"
            ]
          },
          "metadata": {
            "tags": []
          },
          "execution_count": 22
        }
      ]
    },
    {
      "cell_type": "code",
      "metadata": {
        "colab": {
          "base_uri": "https://localhost:8080/"
        },
        "id": "7mGvZSJ8o6-O",
        "outputId": "657d31fe-32f7-40ae-df51-4285ff7332a9"
      },
      "source": [
        "pip install tensorflowjs"
      ],
      "execution_count": 23,
      "outputs": [
        {
          "output_type": "stream",
          "text": [
            "Collecting tensorflowjs\n",
            "\u001b[?25l  Downloading https://files.pythonhosted.org/packages/51/19/5ab51223cb178ab0f44fbc2ac494d015da135c70603a13eecb2328a59000/tensorflowjs-3.7.0-py3-none-any.whl (64kB)\n",
            "\r\u001b[K     |█████                           | 10kB 17.5MB/s eta 0:00:01\r\u001b[K     |██████████▏                     | 20kB 6.4MB/s eta 0:00:01\r\u001b[K     |███████████████▏                | 30kB 4.3MB/s eta 0:00:01\r\u001b[K     |████████████████████▎           | 40kB 4.1MB/s eta 0:00:01\r\u001b[K     |█████████████████████████▎      | 51kB 2.1MB/s eta 0:00:01\r\u001b[K     |██████████████████████████████▍ | 61kB 2.4MB/s eta 0:00:01\r\u001b[K     |████████████████████████████████| 71kB 2.1MB/s \n",
            "\u001b[?25hRequirement already satisfied: tensorflow-hub<0.13,>=0.7.0; python_version >= \"3\" in /usr/local/lib/python3.7/dist-packages (from tensorflowjs) (0.12.0)\n",
            "Requirement already satisfied: tensorflow<3,>=2.1.0 in /usr/local/lib/python3.7/dist-packages (from tensorflowjs) (2.5.0)\n",
            "Requirement already satisfied: six<2,>=1.12.0 in /usr/local/lib/python3.7/dist-packages (from tensorflowjs) (1.15.0)\n",
            "Requirement already satisfied: protobuf>=3.8.0 in /usr/local/lib/python3.7/dist-packages (from tensorflow-hub<0.13,>=0.7.0; python_version >= \"3\"->tensorflowjs) (3.12.4)\n",
            "Requirement already satisfied: numpy>=1.12.0 in /usr/local/lib/python3.7/dist-packages (from tensorflow-hub<0.13,>=0.7.0; python_version >= \"3\"->tensorflowjs) (1.19.5)\n",
            "Requirement already satisfied: h5py~=3.1.0 in /usr/local/lib/python3.7/dist-packages (from tensorflow<3,>=2.1.0->tensorflowjs) (3.1.0)\n",
            "Requirement already satisfied: termcolor~=1.1.0 in /usr/local/lib/python3.7/dist-packages (from tensorflow<3,>=2.1.0->tensorflowjs) (1.1.0)\n",
            "Requirement already satisfied: gast==0.4.0 in /usr/local/lib/python3.7/dist-packages (from tensorflow<3,>=2.1.0->tensorflowjs) (0.4.0)\n",
            "Requirement already satisfied: wheel~=0.35 in /usr/local/lib/python3.7/dist-packages (from tensorflow<3,>=2.1.0->tensorflowjs) (0.36.2)\n",
            "Requirement already satisfied: typing-extensions~=3.7.4 in /usr/local/lib/python3.7/dist-packages (from tensorflow<3,>=2.1.0->tensorflowjs) (3.7.4.3)\n",
            "Requirement already satisfied: opt-einsum~=3.3.0 in /usr/local/lib/python3.7/dist-packages (from tensorflow<3,>=2.1.0->tensorflowjs) (3.3.0)\n",
            "Requirement already satisfied: tensorflow-estimator<2.6.0,>=2.5.0rc0 in /usr/local/lib/python3.7/dist-packages (from tensorflow<3,>=2.1.0->tensorflowjs) (2.5.0)\n",
            "Requirement already satisfied: absl-py~=0.10 in /usr/local/lib/python3.7/dist-packages (from tensorflow<3,>=2.1.0->tensorflowjs) (0.12.0)\n",
            "Requirement already satisfied: astunparse~=1.6.3 in /usr/local/lib/python3.7/dist-packages (from tensorflow<3,>=2.1.0->tensorflowjs) (1.6.3)\n",
            "Requirement already satisfied: grpcio~=1.34.0 in /usr/local/lib/python3.7/dist-packages (from tensorflow<3,>=2.1.0->tensorflowjs) (1.34.1)\n",
            "Requirement already satisfied: flatbuffers~=1.12.0 in /usr/local/lib/python3.7/dist-packages (from tensorflow<3,>=2.1.0->tensorflowjs) (1.12)\n",
            "Requirement already satisfied: tensorboard~=2.5 in /usr/local/lib/python3.7/dist-packages (from tensorflow<3,>=2.1.0->tensorflowjs) (2.5.0)\n",
            "Requirement already satisfied: wrapt~=1.12.1 in /usr/local/lib/python3.7/dist-packages (from tensorflow<3,>=2.1.0->tensorflowjs) (1.12.1)\n",
            "Requirement already satisfied: keras-nightly~=2.5.0.dev in /usr/local/lib/python3.7/dist-packages (from tensorflow<3,>=2.1.0->tensorflowjs) (2.5.0.dev2021032900)\n",
            "Requirement already satisfied: keras-preprocessing~=1.1.2 in /usr/local/lib/python3.7/dist-packages (from tensorflow<3,>=2.1.0->tensorflowjs) (1.1.2)\n",
            "Requirement already satisfied: google-pasta~=0.2 in /usr/local/lib/python3.7/dist-packages (from tensorflow<3,>=2.1.0->tensorflowjs) (0.2.0)\n",
            "Requirement already satisfied: setuptools in /usr/local/lib/python3.7/dist-packages (from protobuf>=3.8.0->tensorflow-hub<0.13,>=0.7.0; python_version >= \"3\"->tensorflowjs) (57.0.0)\n",
            "Requirement already satisfied: cached-property; python_version < \"3.8\" in /usr/local/lib/python3.7/dist-packages (from h5py~=3.1.0->tensorflow<3,>=2.1.0->tensorflowjs) (1.5.2)\n",
            "Requirement already satisfied: tensorboard-data-server<0.7.0,>=0.6.0 in /usr/local/lib/python3.7/dist-packages (from tensorboard~=2.5->tensorflow<3,>=2.1.0->tensorflowjs) (0.6.1)\n",
            "Requirement already satisfied: google-auth-oauthlib<0.5,>=0.4.1 in /usr/local/lib/python3.7/dist-packages (from tensorboard~=2.5->tensorflow<3,>=2.1.0->tensorflowjs) (0.4.4)\n",
            "Requirement already satisfied: markdown>=2.6.8 in /usr/local/lib/python3.7/dist-packages (from tensorboard~=2.5->tensorflow<3,>=2.1.0->tensorflowjs) (3.3.4)\n",
            "Requirement already satisfied: requests<3,>=2.21.0 in /usr/local/lib/python3.7/dist-packages (from tensorboard~=2.5->tensorflow<3,>=2.1.0->tensorflowjs) (2.23.0)\n",
            "Requirement already satisfied: google-auth<2,>=1.6.3 in /usr/local/lib/python3.7/dist-packages (from tensorboard~=2.5->tensorflow<3,>=2.1.0->tensorflowjs) (1.30.0)\n",
            "Requirement already satisfied: tensorboard-plugin-wit>=1.6.0 in /usr/local/lib/python3.7/dist-packages (from tensorboard~=2.5->tensorflow<3,>=2.1.0->tensorflowjs) (1.8.0)\n",
            "Requirement already satisfied: werkzeug>=0.11.15 in /usr/local/lib/python3.7/dist-packages (from tensorboard~=2.5->tensorflow<3,>=2.1.0->tensorflowjs) (1.0.1)\n",
            "Requirement already satisfied: requests-oauthlib>=0.7.0 in /usr/local/lib/python3.7/dist-packages (from google-auth-oauthlib<0.5,>=0.4.1->tensorboard~=2.5->tensorflow<3,>=2.1.0->tensorflowjs) (1.3.0)\n",
            "Requirement already satisfied: importlib-metadata; python_version < \"3.8\" in /usr/local/lib/python3.7/dist-packages (from markdown>=2.6.8->tensorboard~=2.5->tensorflow<3,>=2.1.0->tensorflowjs) (4.0.1)\n",
            "Requirement already satisfied: chardet<4,>=3.0.2 in /usr/local/lib/python3.7/dist-packages (from requests<3,>=2.21.0->tensorboard~=2.5->tensorflow<3,>=2.1.0->tensorflowjs) (3.0.4)\n",
            "Requirement already satisfied: certifi>=2017.4.17 in /usr/local/lib/python3.7/dist-packages (from requests<3,>=2.21.0->tensorboard~=2.5->tensorflow<3,>=2.1.0->tensorflowjs) (2020.12.5)\n",
            "Requirement already satisfied: urllib3!=1.25.0,!=1.25.1,<1.26,>=1.21.1 in /usr/local/lib/python3.7/dist-packages (from requests<3,>=2.21.0->tensorboard~=2.5->tensorflow<3,>=2.1.0->tensorflowjs) (1.24.3)\n",
            "Requirement already satisfied: idna<3,>=2.5 in /usr/local/lib/python3.7/dist-packages (from requests<3,>=2.21.0->tensorboard~=2.5->tensorflow<3,>=2.1.0->tensorflowjs) (2.10)\n",
            "Requirement already satisfied: cachetools<5.0,>=2.0.0 in /usr/local/lib/python3.7/dist-packages (from google-auth<2,>=1.6.3->tensorboard~=2.5->tensorflow<3,>=2.1.0->tensorflowjs) (4.2.2)\n",
            "Requirement already satisfied: rsa<5,>=3.1.4; python_version >= \"3.6\" in /usr/local/lib/python3.7/dist-packages (from google-auth<2,>=1.6.3->tensorboard~=2.5->tensorflow<3,>=2.1.0->tensorflowjs) (4.7.2)\n",
            "Requirement already satisfied: pyasn1-modules>=0.2.1 in /usr/local/lib/python3.7/dist-packages (from google-auth<2,>=1.6.3->tensorboard~=2.5->tensorflow<3,>=2.1.0->tensorflowjs) (0.2.8)\n",
            "Requirement already satisfied: oauthlib>=3.0.0 in /usr/local/lib/python3.7/dist-packages (from requests-oauthlib>=0.7.0->google-auth-oauthlib<0.5,>=0.4.1->tensorboard~=2.5->tensorflow<3,>=2.1.0->tensorflowjs) (3.1.0)\n",
            "Requirement already satisfied: zipp>=0.5 in /usr/local/lib/python3.7/dist-packages (from importlib-metadata; python_version < \"3.8\"->markdown>=2.6.8->tensorboard~=2.5->tensorflow<3,>=2.1.0->tensorflowjs) (3.4.1)\n",
            "Requirement already satisfied: pyasn1>=0.1.3 in /usr/local/lib/python3.7/dist-packages (from rsa<5,>=3.1.4; python_version >= \"3.6\"->google-auth<2,>=1.6.3->tensorboard~=2.5->tensorflow<3,>=2.1.0->tensorflowjs) (0.4.8)\n",
            "Installing collected packages: tensorflowjs\n",
            "Successfully installed tensorflowjs-3.7.0\n"
          ],
          "name": "stdout"
        }
      ]
    },
    {
      "cell_type": "code",
      "metadata": {
        "id": "eL7Gs6Ajo8Eg"
      },
      "source": [
        "import tensorflowjs as tfjs\n",
        "tfjs.converters.save_keras_model(model, 'models')"
      ],
      "execution_count": 24,
      "outputs": []
    }
  ]
}