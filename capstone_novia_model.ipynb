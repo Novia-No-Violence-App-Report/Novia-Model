{
  "nbformat": 4,
  "nbformat_minor": 0,
  "metadata": {
    "kernelspec": {
      "display_name": "Python 3",
      "language": "python",
      "name": "python3"
    },
    "language_info": {
      "codemirror_mode": {
        "name": "ipython",
        "version": 3
      },
      "file_extension": ".py",
      "mimetype": "text/x-python",
      "name": "python",
      "nbconvert_exporter": "python",
      "pygments_lexer": "ipython3",
      "version": "3.7.4"
    },
    "colab": {
      "name": "capstone_novia_model.ipynb",
      "provenance": [],
      "collapsed_sections": []
    },
    "accelerator": "GPU"
  },
  "cells": [
    {
      "cell_type": "code",
      "metadata": {
        "id": "i5U6_-ByGJ6P"
      },
      "source": [
        "import numpy as np # linear algebra\n",
        "import pandas as pd # data processing\n",
        "import tensorflow as tf\n",
        "\n",
        "from sklearn.feature_extraction.text import CountVectorizer\n",
        "from keras.preprocessing.text import Tokenizer\n",
        "from keras.preprocessing.sequence import pad_sequences\n",
        "from keras.models import Sequential\n",
        "from keras.layers import Dense, Embedding, LSTM, SpatialDropout1D\n",
        "from sklearn.model_selection import train_test_split\n",
        "from keras.utils.np_utils import to_categorical\n",
        "import re"
      ],
      "execution_count": null,
      "outputs": []
    },
    {
      "cell_type": "code",
      "metadata": {
        "id": "2Sb8x93ox3eH",
        "colab": {
          "resources": {
            "http://localhost:8080/nbextensions/google.colab/files.js": {
              "data": "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",
              "ok": true,
              "headers": [
                [
                  "content-type",
                  "application/javascript"
                ]
              ],
              "status": 200,
              "status_text": ""
            }
          },
          "base_uri": "https://localhost:8080/",
          "height": 71
        },
        "outputId": "284aed53-ef77-42ef-e284-d9a4c1f7fb05"
      },
      "source": [
        "from google.colab import files \n",
        "upload = files.upload()"
      ],
      "execution_count": null,
      "outputs": [
        {
          "output_type": "display_data",
          "data": {
            "text/html": [
              "\n",
              "     <input type=\"file\" id=\"files-339baacf-e8bf-44b6-a35d-c6030b102b8b\" name=\"files[]\" multiple disabled\n",
              "        style=\"border:none\" />\n",
              "     <output id=\"result-339baacf-e8bf-44b6-a35d-c6030b102b8b\">\n",
              "      Upload widget is only available when the cell has been executed in the\n",
              "      current browser session. Please rerun this cell to enable.\n",
              "      </output>\n",
              "      <script src=\"/nbextensions/google.colab/files.js\"></script> "
            ],
            "text/plain": [
              "<IPython.core.display.HTML object>"
            ]
          },
          "metadata": {
            "tags": []
          }
        },
        {
          "output_type": "stream",
          "text": [
            "Saving data_nlp.csv to data_nlp.csv\n"
          ],
          "name": "stdout"
        }
      ]
    },
    {
      "cell_type": "code",
      "metadata": {
        "id": "6sCyB0HcGJ6U",
        "colab": {
          "base_uri": "https://localhost:8080/",
          "height": 413
        },
        "outputId": "4f910fec-6907-49eb-9a3a-3ce055785945"
      },
      "source": [
        "data = pd.read_csv('data_nlp.csv')\n",
        "# Keeping only the neccessary columns\n",
        "data = data[['ID','kategori','isi_laporan','sentimen']]\n",
        "data"
      ],
      "execution_count": null,
      "outputs": [
        {
          "output_type": "execute_result",
          "data": {
            "text/html": [
              "<div>\n",
              "<style scoped>\n",
              "    .dataframe tbody tr th:only-of-type {\n",
              "        vertical-align: middle;\n",
              "    }\n",
              "\n",
              "    .dataframe tbody tr th {\n",
              "        vertical-align: top;\n",
              "    }\n",
              "\n",
              "    .dataframe thead th {\n",
              "        text-align: right;\n",
              "    }\n",
              "</style>\n",
              "<table border=\"1\" class=\"dataframe\">\n",
              "  <thead>\n",
              "    <tr style=\"text-align: right;\">\n",
              "      <th></th>\n",
              "      <th>ID</th>\n",
              "      <th>kategori</th>\n",
              "      <th>isi_laporan</th>\n",
              "      <th>sentimen</th>\n",
              "    </tr>\n",
              "  </thead>\n",
              "  <tbody>\n",
              "    <tr>\n",
              "      <th>0</th>\n",
              "      <td>1</td>\n",
              "      <td>Fisik</td>\n",
              "      <td>Saya anak broken home. Sekarang saya tinggal b...</td>\n",
              "      <td>Low</td>\n",
              "    </tr>\n",
              "    <tr>\n",
              "      <th>1</th>\n",
              "      <td>2</td>\n",
              "      <td>Fisik</td>\n",
              "      <td>Ayah selalu memukuli saya dan ibu jika mabuk. ...</td>\n",
              "      <td>Low</td>\n",
              "    </tr>\n",
              "    <tr>\n",
              "      <th>2</th>\n",
              "      <td>3</td>\n",
              "      <td>Fisik</td>\n",
              "      <td>Biasanya ibu akan mukul kalau aku ngga berhasi...</td>\n",
              "      <td>Low</td>\n",
              "    </tr>\n",
              "    <tr>\n",
              "      <th>3</th>\n",
              "      <td>4</td>\n",
              "      <td>Fisik</td>\n",
              "      <td>Kemarin saya bertengkar dengan suami, dia menj...</td>\n",
              "      <td>Low</td>\n",
              "    </tr>\n",
              "    <tr>\n",
              "      <th>4</th>\n",
              "      <td>5</td>\n",
              "      <td>Fisik</td>\n",
              "      <td>Sering sekali saya lihat ibu-ibu pengemis deng...</td>\n",
              "      <td>Low</td>\n",
              "    </tr>\n",
              "    <tr>\n",
              "      <th>...</th>\n",
              "      <td>...</td>\n",
              "      <td>...</td>\n",
              "      <td>...</td>\n",
              "      <td>...</td>\n",
              "    </tr>\n",
              "    <tr>\n",
              "      <th>495</th>\n",
              "      <td>496</td>\n",
              "      <td>penelantaran</td>\n",
              "      <td>Pagi tadi di jalanan X saya melihat anak yang ...</td>\n",
              "      <td>Low</td>\n",
              "    </tr>\n",
              "    <tr>\n",
              "      <th>496</th>\n",
              "      <td>497</td>\n",
              "      <td>penelantaran</td>\n",
              "      <td>malam ini saat saya mendengar suara tangis seo...</td>\n",
              "      <td>High</td>\n",
              "    </tr>\n",
              "    <tr>\n",
              "      <th>497</th>\n",
              "      <td>498</td>\n",
              "      <td>penelantaran</td>\n",
              "      <td>Anak dari bapak x yang suka minum minuman kera...</td>\n",
              "      <td>High</td>\n",
              "    </tr>\n",
              "    <tr>\n",
              "      <th>498</th>\n",
              "      <td>499</td>\n",
              "      <td>penelantaran</td>\n",
              "      <td>waktu itu saya mendengar ada suara tangisan ba...</td>\n",
              "      <td>Low</td>\n",
              "    </tr>\n",
              "    <tr>\n",
              "      <th>499</th>\n",
              "      <td>500</td>\n",
              "      <td>penelantaran</td>\n",
              "      <td>pada saat saya ingin berangkat ke kantor saya ...</td>\n",
              "      <td>High</td>\n",
              "    </tr>\n",
              "  </tbody>\n",
              "</table>\n",
              "<p>500 rows × 4 columns</p>\n",
              "</div>"
            ],
            "text/plain": [
              "      ID  ... sentimen\n",
              "0      1  ...      Low\n",
              "1      2  ...      Low\n",
              "2      3  ...      Low\n",
              "3      4  ...      Low\n",
              "4      5  ...      Low\n",
              "..   ...  ...      ...\n",
              "495  496  ...      Low\n",
              "496  497  ...     High\n",
              "497  498  ...     High\n",
              "498  499  ...      Low\n",
              "499  500  ...     High\n",
              "\n",
              "[500 rows x 4 columns]"
            ]
          },
          "metadata": {
            "tags": []
          },
          "execution_count": 8
        }
      ]
    },
    {
      "cell_type": "code",
      "metadata": {
        "id": "tMmnuMDqGJ6X",
        "colab": {
          "base_uri": "https://localhost:8080/"
        },
        "outputId": "d2fdca5c-4c91-461c-e884-7f49dd1673f6"
      },
      "source": [
        "data.isnull().sum()"
      ],
      "execution_count": null,
      "outputs": [
        {
          "output_type": "execute_result",
          "data": {
            "text/plain": [
              "ID             0\n",
              "kategori       0\n",
              "isi_laporan    0\n",
              "sentimen       0\n",
              "dtype: int64"
            ]
          },
          "metadata": {
            "tags": []
          },
          "execution_count": 9
        }
      ]
    },
    {
      "cell_type": "code",
      "metadata": {
        "id": "fL9V5SYbGJ6Z",
        "colab": {
          "base_uri": "https://localhost:8080/",
          "height": 201
        },
        "outputId": "78443456-8bca-4288-d9b1-9333b80a24d9"
      },
      "source": [
        "data = data[data.sentimen != \"Medium\"]\n",
        "\n",
        "data['isi_laporan'] = data['isi_laporan'].apply(lambda x: x.lower())\n",
        "data['isi_laporan'] = data['isi_laporan'].apply((lambda x: re.sub('[^a-zA-z0-9\\s]','',x)))\n",
        "    \n",
        "# for idx,row in data.iterrows():\n",
        "#     row[0] = row[0].replace('rt',' ')\n",
        "    \n",
        "data.head()"
      ],
      "execution_count": null,
      "outputs": [
        {
          "output_type": "execute_result",
          "data": {
            "text/html": [
              "<div>\n",
              "<style scoped>\n",
              "    .dataframe tbody tr th:only-of-type {\n",
              "        vertical-align: middle;\n",
              "    }\n",
              "\n",
              "    .dataframe tbody tr th {\n",
              "        vertical-align: top;\n",
              "    }\n",
              "\n",
              "    .dataframe thead th {\n",
              "        text-align: right;\n",
              "    }\n",
              "</style>\n",
              "<table border=\"1\" class=\"dataframe\">\n",
              "  <thead>\n",
              "    <tr style=\"text-align: right;\">\n",
              "      <th></th>\n",
              "      <th>ID</th>\n",
              "      <th>kategori</th>\n",
              "      <th>isi_laporan</th>\n",
              "      <th>sentimen</th>\n",
              "    </tr>\n",
              "  </thead>\n",
              "  <tbody>\n",
              "    <tr>\n",
              "      <th>0</th>\n",
              "      <td>1</td>\n",
              "      <td>Fisik</td>\n",
              "      <td>saya anak broken home sekarang saya tinggal be...</td>\n",
              "      <td>Low</td>\n",
              "    </tr>\n",
              "    <tr>\n",
              "      <th>1</th>\n",
              "      <td>2</td>\n",
              "      <td>Fisik</td>\n",
              "      <td>ayah selalu memukuli saya dan ibu jika mabuk i...</td>\n",
              "      <td>Low</td>\n",
              "    </tr>\n",
              "    <tr>\n",
              "      <th>2</th>\n",
              "      <td>3</td>\n",
              "      <td>Fisik</td>\n",
              "      <td>biasanya ibu akan mukul kalau aku ngga berhasi...</td>\n",
              "      <td>Low</td>\n",
              "    </tr>\n",
              "    <tr>\n",
              "      <th>3</th>\n",
              "      <td>4</td>\n",
              "      <td>Fisik</td>\n",
              "      <td>kemarin saya bertengkar dengan suami dia menja...</td>\n",
              "      <td>Low</td>\n",
              "    </tr>\n",
              "    <tr>\n",
              "      <th>4</th>\n",
              "      <td>5</td>\n",
              "      <td>Fisik</td>\n",
              "      <td>sering sekali saya lihat ibuibu pengemis denga...</td>\n",
              "      <td>Low</td>\n",
              "    </tr>\n",
              "  </tbody>\n",
              "</table>\n",
              "</div>"
            ],
            "text/plain": [
              "   ID kategori                                        isi_laporan sentimen\n",
              "0   1    Fisik  saya anak broken home sekarang saya tinggal be...      Low\n",
              "1   2    Fisik  ayah selalu memukuli saya dan ibu jika mabuk i...      Low\n",
              "2   3    Fisik  biasanya ibu akan mukul kalau aku ngga berhasi...      Low\n",
              "3   4    Fisik  kemarin saya bertengkar dengan suami dia menja...      Low\n",
              "4   5    Fisik  sering sekali saya lihat ibuibu pengemis denga...      Low"
            ]
          },
          "metadata": {
            "tags": []
          },
          "execution_count": 10
        }
      ]
    },
    {
      "cell_type": "code",
      "metadata": {
        "colab": {
          "base_uri": "https://localhost:8080/"
        },
        "id": "bPlbcKDJHZgw",
        "outputId": "fe228ee9-85b5-4144-a263-ec2fe069f7b2"
      },
      "source": [
        "print(len(data[data.sentimen == \"High\"]))\n",
        "print(len(data[data.sentimen == \"Low\"]))"
      ],
      "execution_count": null,
      "outputs": [
        {
          "output_type": "stream",
          "text": [
            "253\n",
            "247\n"
          ],
          "name": "stdout"
        }
      ]
    },
    {
      "cell_type": "code",
      "metadata": {
        "id": "k9LctRlly7Uz"
      },
      "source": [
        "max_features = 3000\n",
        "\n",
        "tokenizer = Tokenizer(num_words=max_features, split=' ')\n",
        "tokenizer.fit_on_texts(data['isi_laporan'].values)\n",
        "X = tokenizer.texts_to_sequences(data['isi_laporan'].values)\n",
        "X = pad_sequences(X)"
      ],
      "execution_count": null,
      "outputs": []
    },
    {
      "cell_type": "code",
      "metadata": {
        "id": "ybGEzommGJ6c",
        "colab": {
          "base_uri": "https://localhost:8080/"
        },
        "outputId": "647b29b6-8840-4c62-be5f-ee8edbc453b3"
      },
      "source": [
        "Y = pd.get_dummies(data['sentimen']).values\n",
        "X_train, X_test, Y_train, Y_test = train_test_split(X,Y, test_size = 0.2, random_state = 42)\n",
        "print(X_train.shape,Y_train.shape)\n",
        "print(X_test.shape,Y_test.shape)"
      ],
      "execution_count": null,
      "outputs": [
        {
          "output_type": "stream",
          "text": [
            "(400, 53) (400, 2)\n",
            "(100, 53) (100, 2)\n"
          ],
          "name": "stdout"
        }
      ]
    },
    {
      "cell_type": "code",
      "metadata": {
        "id": "Rx2OeSinGJ6e",
        "colab": {
          "base_uri": "https://localhost:8080/",
          "height": 413
        },
        "outputId": "73da8b85-2f07-4cce-8065-423f02b6de16"
      },
      "source": [
        "kategori = pd.get_dummies(data.sentimen)\n",
        "data = pd.concat([data, kategori], axis=1 )\n",
        "data = data.drop(columns=['ID', 'kategori','sentimen'])\n",
        "data"
      ],
      "execution_count": null,
      "outputs": [
        {
          "output_type": "execute_result",
          "data": {
            "text/html": [
              "<div>\n",
              "<style scoped>\n",
              "    .dataframe tbody tr th:only-of-type {\n",
              "        vertical-align: middle;\n",
              "    }\n",
              "\n",
              "    .dataframe tbody tr th {\n",
              "        vertical-align: top;\n",
              "    }\n",
              "\n",
              "    .dataframe thead th {\n",
              "        text-align: right;\n",
              "    }\n",
              "</style>\n",
              "<table border=\"1\" class=\"dataframe\">\n",
              "  <thead>\n",
              "    <tr style=\"text-align: right;\">\n",
              "      <th></th>\n",
              "      <th>isi_laporan</th>\n",
              "      <th>High</th>\n",
              "      <th>Low</th>\n",
              "    </tr>\n",
              "  </thead>\n",
              "  <tbody>\n",
              "    <tr>\n",
              "      <th>0</th>\n",
              "      <td>saya anak broken home sekarang saya tinggal be...</td>\n",
              "      <td>0</td>\n",
              "      <td>1</td>\n",
              "    </tr>\n",
              "    <tr>\n",
              "      <th>1</th>\n",
              "      <td>ayah selalu memukuli saya dan ibu jika mabuk i...</td>\n",
              "      <td>0</td>\n",
              "      <td>1</td>\n",
              "    </tr>\n",
              "    <tr>\n",
              "      <th>2</th>\n",
              "      <td>biasanya ibu akan mukul kalau aku ngga berhasi...</td>\n",
              "      <td>0</td>\n",
              "      <td>1</td>\n",
              "    </tr>\n",
              "    <tr>\n",
              "      <th>3</th>\n",
              "      <td>kemarin saya bertengkar dengan suami dia menja...</td>\n",
              "      <td>0</td>\n",
              "      <td>1</td>\n",
              "    </tr>\n",
              "    <tr>\n",
              "      <th>4</th>\n",
              "      <td>sering sekali saya lihat ibuibu pengemis denga...</td>\n",
              "      <td>0</td>\n",
              "      <td>1</td>\n",
              "    </tr>\n",
              "    <tr>\n",
              "      <th>...</th>\n",
              "      <td>...</td>\n",
              "      <td>...</td>\n",
              "      <td>...</td>\n",
              "    </tr>\n",
              "    <tr>\n",
              "      <th>495</th>\n",
              "      <td>pagi tadi di jalanan x saya melihat anak yang ...</td>\n",
              "      <td>0</td>\n",
              "      <td>1</td>\n",
              "    </tr>\n",
              "    <tr>\n",
              "      <th>496</th>\n",
              "      <td>malam ini saat saya mendengar suara tangis seo...</td>\n",
              "      <td>1</td>\n",
              "      <td>0</td>\n",
              "    </tr>\n",
              "    <tr>\n",
              "      <th>497</th>\n",
              "      <td>anak dari bapak x yang suka minum minuman kera...</td>\n",
              "      <td>1</td>\n",
              "      <td>0</td>\n",
              "    </tr>\n",
              "    <tr>\n",
              "      <th>498</th>\n",
              "      <td>waktu itu saya mendengar ada suara tangisan ba...</td>\n",
              "      <td>0</td>\n",
              "      <td>1</td>\n",
              "    </tr>\n",
              "    <tr>\n",
              "      <th>499</th>\n",
              "      <td>pada saat saya ingin berangkat ke kantor saya ...</td>\n",
              "      <td>1</td>\n",
              "      <td>0</td>\n",
              "    </tr>\n",
              "  </tbody>\n",
              "</table>\n",
              "<p>500 rows × 3 columns</p>\n",
              "</div>"
            ],
            "text/plain": [
              "                                           isi_laporan  High  Low\n",
              "0    saya anak broken home sekarang saya tinggal be...     0    1\n",
              "1    ayah selalu memukuli saya dan ibu jika mabuk i...     0    1\n",
              "2    biasanya ibu akan mukul kalau aku ngga berhasi...     0    1\n",
              "3    kemarin saya bertengkar dengan suami dia menja...     0    1\n",
              "4    sering sekali saya lihat ibuibu pengemis denga...     0    1\n",
              "..                                                 ...   ...  ...\n",
              "495  pagi tadi di jalanan x saya melihat anak yang ...     0    1\n",
              "496  malam ini saat saya mendengar suara tangis seo...     1    0\n",
              "497  anak dari bapak x yang suka minum minuman kera...     1    0\n",
              "498  waktu itu saya mendengar ada suara tangisan ba...     0    1\n",
              "499  pada saat saya ingin berangkat ke kantor saya ...     1    0\n",
              "\n",
              "[500 rows x 3 columns]"
            ]
          },
          "metadata": {
            "tags": []
          },
          "execution_count": 14
        }
      ]
    },
    {
      "cell_type": "code",
      "metadata": {
        "id": "VmgFP9wTGJ6h"
      },
      "source": [
        "y_train = to_categorical(Y_train, 2)\n",
        "y_test = to_categorical(Y_test, 2)"
      ],
      "execution_count": null,
      "outputs": []
    },
    {
      "cell_type": "code",
      "metadata": {
        "id": "YaU6N37RGJ6l",
        "colab": {
          "base_uri": "https://localhost:8080/"
        },
        "outputId": "c9c541a0-c247-4b52-dc7b-db4c17816eb4"
      },
      "source": [
        "embed_dim = 128\n",
        "lstm_out = 196\n",
        "\n",
        "model = Sequential()\n",
        "model.add(Embedding(max_features, embed_dim,input_length = X.shape[1]))\n",
        "model.add(SpatialDropout1D (0.25))\n",
        "model.add(LSTM(lstm_out, dropout=0.2, recurrent_dropout=0.2))\n",
        "model.add(Dense(2,activation='softmax'))\n",
        "\n",
        "model.compile(loss = 'binary_crossentropy', optimizer='adam',metrics = ['accuracy'])\n",
        "\n",
        "print(model.summary())"
      ],
      "execution_count": null,
      "outputs": [
        {
          "output_type": "stream",
          "text": [
            "WARNING:tensorflow:Layer lstm will not use cuDNN kernels since it doesn't meet the criteria. It will use a generic GPU kernel as fallback when running on GPU.\n",
            "Model: \"sequential\"\n",
            "_________________________________________________________________\n",
            "Layer (type)                 Output Shape              Param #   \n",
            "=================================================================\n",
            "embedding (Embedding)        (None, 53, 128)           384000    \n",
            "_________________________________________________________________\n",
            "spatial_dropout1d (SpatialDr (None, 53, 128)           0         \n",
            "_________________________________________________________________\n",
            "lstm (LSTM)                  (None, 196)               254800    \n",
            "_________________________________________________________________\n",
            "dense (Dense)                (None, 2)                 394       \n",
            "=================================================================\n",
            "Total params: 639,194\n",
            "Trainable params: 639,194\n",
            "Non-trainable params: 0\n",
            "_________________________________________________________________\n",
            "None\n"
          ],
          "name": "stdout"
        }
      ]
    },
    {
      "cell_type": "code",
      "metadata": {
        "id": "ct-aZbOPGJ6n",
        "colab": {
          "base_uri": "https://localhost:8080/"
        },
        "outputId": "3d3c492f-be2d-49dd-cbbd-c9b82277177d"
      },
      "source": [
        "batch_size = 32\n",
        "history = model.fit(X_train, Y_train, \n",
        "                    epochs = 15, \n",
        "                    batch_size=batch_size, \n",
        "                    validation_data=(X_test, Y_test),\n",
        "                    verbose = 1)"
      ],
      "execution_count": null,
      "outputs": [
        {
          "output_type": "stream",
          "text": [
            "Epoch 1/15\n",
            "13/13 [==============================] - 23s 276ms/step - loss: 0.6934 - accuracy: 0.4786 - val_loss: 0.6955 - val_accuracy: 0.4600\n",
            "Epoch 2/15\n",
            "13/13 [==============================] - 3s 201ms/step - loss: 0.6855 - accuracy: 0.5608 - val_loss: 0.6983 - val_accuracy: 0.4400\n",
            "Epoch 3/15\n",
            "13/13 [==============================] - 3s 212ms/step - loss: 0.6724 - accuracy: 0.7322 - val_loss: 0.6966 - val_accuracy: 0.5000\n",
            "Epoch 4/15\n",
            "13/13 [==============================] - 3s 201ms/step - loss: 0.5776 - accuracy: 0.7859 - val_loss: 0.7075 - val_accuracy: 0.5100\n",
            "Epoch 5/15\n",
            "13/13 [==============================] - 3s 208ms/step - loss: 0.4627 - accuracy: 0.8909 - val_loss: 0.7985 - val_accuracy: 0.5300\n",
            "Epoch 6/15\n",
            "13/13 [==============================] - 3s 203ms/step - loss: 0.2997 - accuracy: 0.8946 - val_loss: 0.8374 - val_accuracy: 0.5700\n",
            "Epoch 7/15\n",
            "13/13 [==============================] - 3s 202ms/step - loss: 0.2216 - accuracy: 0.9238 - val_loss: 1.2082 - val_accuracy: 0.4900\n",
            "Epoch 8/15\n",
            "13/13 [==============================] - 3s 212ms/step - loss: 0.1150 - accuracy: 0.9606 - val_loss: 1.0888 - val_accuracy: 0.5700\n",
            "Epoch 9/15\n",
            "13/13 [==============================] - 3s 207ms/step - loss: 0.0593 - accuracy: 0.9872 - val_loss: 1.2709 - val_accuracy: 0.5500\n",
            "Epoch 10/15\n",
            "13/13 [==============================] - 3s 199ms/step - loss: 0.0422 - accuracy: 0.9877 - val_loss: 1.3124 - val_accuracy: 0.5600\n",
            "Epoch 11/15\n",
            "13/13 [==============================] - 3s 214ms/step - loss: 0.0233 - accuracy: 0.9974 - val_loss: 1.5799 - val_accuracy: 0.5200\n",
            "Epoch 12/15\n",
            "13/13 [==============================] - 3s 202ms/step - loss: 0.0175 - accuracy: 1.0000 - val_loss: 1.5140 - val_accuracy: 0.5800\n",
            "Epoch 13/15\n",
            "13/13 [==============================] - 3s 210ms/step - loss: 0.0373 - accuracy: 0.9951 - val_loss: 1.6243 - val_accuracy: 0.5600\n",
            "Epoch 14/15\n",
            "13/13 [==============================] - 3s 211ms/step - loss: 0.0235 - accuracy: 0.9985 - val_loss: 1.4889 - val_accuracy: 0.5200\n",
            "Epoch 15/15\n",
            "13/13 [==============================] - 3s 211ms/step - loss: 0.0081 - accuracy: 1.0000 - val_loss: 1.8243 - val_accuracy: 0.5300\n"
          ],
          "name": "stdout"
        }
      ]
    },
    {
      "cell_type": "code",
      "metadata": {
        "id": "pUDFIxaOGJ6s",
        "colab": {
          "base_uri": "https://localhost:8080/",
          "height": 295
        },
        "outputId": "b2028c0a-c0ef-46ca-a6ed-cf2bcdd244b2"
      },
      "source": [
        "import matplotlib.pyplot as plt\n",
        "\n",
        "#melakukan plot untuk model loss pada training data \n",
        "\n",
        "plt.plot(history.history['loss'])\n",
        "plt.title('Model loss')\n",
        "plt.ylabel('Loss')\n",
        "plt.xlabel('Epoch')\n",
        "plt.legend(['Train'], loc='upper right')\n",
        "plt.show()"
      ],
      "execution_count": null,
      "outputs": [
        {
          "output_type": "display_data",
          "data": {
            "image/png": "[encoded data removed]",
            "text/plain": [
              "<Figure size 432x288 with 1 Axes>"
            ]
          },
          "metadata": {
            "tags": [],
            "needs_background": "light"
          }
        }
      ]
    },
    {
      "cell_type": "code",
      "metadata": {
        "id": "2xVx3aVoGJ6u",
        "colab": {
          "base_uri": "https://localhost:8080/",
          "height": 295
        },
        "outputId": "8e382877-a534-4c37-900e-aa7128e58d2e"
      },
      "source": [
        "#melakukan plot untuk model accuracy pada training data \n",
        "\n",
        "plt.plot(history.history['accuracy'])\n",
        "plt.title('Model accuracy')\n",
        "plt.ylabel('Accuracy')\n",
        "plt.xlabel('Epoch')\n",
        "plt.legend(['Train'], loc='lower right')\n",
        "plt.show()"
      ],
      "execution_count": null,
      "outputs": [
        {
          "output_type": "display_data",
          "data": {
            "image/png": "[encoded data removed]",
            "text/plain": [
              "<Figure size 432x288 with 1 Axes>"
            ]
          },
          "metadata": {
            "tags": [],
            "needs_background": "light"
          }
        }
      ]
    },
    {
      "cell_type": "code",
      "metadata": {
        "id": "Om6SpOR2GJ6w"
      },
      "source": [
        "import tensorflow as tf \n",
        "\n",
        "class myCallback(tf.keras.callbacks.Callback):\n",
        "  def on_epoch_end(self, epoch, logs={}):\n",
        "    if(logs.get('accuracy')>0.9):\n",
        "      print(\"\\nAkurasi telah mencapai >90%!\")\n",
        "      self.model.stop_training = True\n",
        "callbacks = myCallback()"
      ],
      "execution_count": null,
      "outputs": []
    },
    {
      "cell_type": "code",
      "metadata": {
        "id": "d6womRe-GJ6y",
        "colab": {
          "base_uri": "https://localhost:8080/"
        },
        "outputId": "3f3a4d9f-0eda-48ea-cf3a-75c2a3bc01e8"
      },
      "source": [
        "model.fit(X_train, Y_train, epochs=15, callbacks=[callbacks])"
      ],
      "execution_count": null,
      "outputs": [
        {
          "output_type": "stream",
          "text": [
            "Epoch 1/15\n",
            "13/13 [==============================] - 3s 210ms/step - loss: 0.0068 - accuracy: 1.0000\n",
            "\n",
            "Akurasi telah mencapai >90%!\n"
          ],
          "name": "stdout"
        },
        {
          "output_type": "execute_result",
          "data": {
            "text/plain": [
              "<keras.callbacks.History at 0x7f12c9137750>"
            ]
          },
          "metadata": {
            "tags": []
          },
          "execution_count": 21
        }
      ]
    },
    {
      "cell_type": "code",
      "metadata": {
        "colab": {
          "base_uri": "https://localhost:8080/"
        },
        "id": "z0J6HyxZKGBb",
        "outputId": "416c3287-2c52-4493-88ba-d7d342bb458d"
      },
      "source": [
        "# testing model dengan data laporan baru yang masuk\n",
        "laporan_baru = [\"saya berusia 8 tahun tinggal bersama ibu tiri saya. ketika melakukan kesalahan saya dicubit dan dipukul dengan menggunakan sapu lidi. Tolong saya lepas dari siksaan ibu tiri saya\"]\n",
        "testing = tokenizer.texts_to_sequences(laporan_baru)\n",
        "data_testing = pad_sequences(testing, maxlen=20)\n",
        "prediksi = model.predict(data_testing)\n",
        "print(\"Hasil prediksi {}\".format(prediksi))"
      ],
      "execution_count": null,
      "outputs": [
        {
          "output_type": "stream",
          "text": [
            "Hasil prediksi [[0.856198   0.14380197]]\n"
          ],
          "name": "stdout"
        }
      ]
    },
    {
      "cell_type": "code",
      "metadata": {
        "colab": {
          "base_uri": "https://localhost:8080/",
          "height": 1000
        },
        "id": "kPRpe6geSwE-",
        "outputId": "772a165d-35a5-4acd-cdd3-82d435d29dec"
      },
      "source": [
        "import json\n",
        "json.dumps(tokenizer.word_index)"
      ],
      "execution_count": null,
      "outputs": [
        {
          "output_type": "execute_result",
          "data": {
            "application/vnd.google.colaboratory.intrinsic+json": {
              "type": "string"
            },
            "text/plain": [
              "'{\"saya\": 1, \"dan\": 2, \"di\": 3, \"anak\": 4, \"sering\": 5, \"tidak\": 6, \"oleh\": 7, \"dengan\": 8, \"yang\": 9, \"dia\": 10, \"aku\": 11, \"ibu\": 12, \"karena\": 13, \"untuk\": 14, \"rumah\": 15, \"tetangga\": 16, \"sangat\": 17, \"suami\": 18, \"suka\": 19, \"sekolah\": 20, \"ke\": 21, \"melakukan\": 22, \"saat\": 23, \"pada\": 24, \"ayah\": 25, \"tapi\": 26, \"ada\": 27, \"sekarang\": 28, \"orang\": 29, \"ini\": 30, \"ingin\": 31, \"teman\": 32, \"jika\": 33, \"mereka\": 34, \"kekerasan\": 35, \"pernah\": 36, \"sudah\": 37, \"mau\": 38, \"ia\": 39, \"x\": 40, \"diperkosa\": 41, \"pulang\": 42, \"setiap\": 43, \"dari\": 44, \"masih\": 45, \"kemarin\": 46, \"itu\": 47, \"hingga\": 48, \"adik\": 49, \"dalam\": 50, \"sedang\": 51, \"hari\": 52, \"kalau\": 53, \"akan\": 54, \"sama\": 55, \"melihat\": 56, \"ketika\": 57, \"padahal\": 58, \"ternyata\": 59, \"anaknya\": 60, \"trauma\": 61, \"seorang\": 62, \"kasar\": 63, \"juga\": 64, \"fisik\": 65, \"selalu\": 66, \"banget\": 67, \"merasa\": 68, \"kakak\": 69, \"dipaksa\": 70, \"sakit\": 71, \"tolong\": 72, \"melaporkan\": 73, \"bisa\": 74, \"pergi\": 75, \"depan\": 76, \"takut\": 77, \"mama\": 78, \"bahwa\": 79, \"lakilaki\": 80, \"badan\": 81, \"setelah\": 82, \"tahun\": 83, \"tangan\": 84, \"lagi\": 85, \"temantemannya\": 86, \"perempuan\": 87, \"lalu\": 88, \"tersebut\": 89, \"bapak\": 90, \"sekali\": 91, \"memukul\": 92, \"sampai\": 93, \"mengatai\": 94, \"memaksa\": 95, \"kali\": 96, \"memiliki\": 97, \"malam\": 98, \"emosi\": 99, \"wanita\": 100, \"mengancam\": 101, \"om\": 102, \"papa\": 103, \"adalah\": 104, \"mengalami\": 105, \"uang\": 106, \"tanpa\": 107, \"pacar\": 108, \"seksual\": 109, \"seperti\": 110, \"diri\": 111, \"keluarga\": 112, \"menangis\": 113, \"sebagai\": 114, \"dibully\": 115, \"tibatiba\": 116, \"menemukan\": 117, \"guru\": 118, \"harus\": 119, \"bayi\": 120, \"mabuk\": 121, \"makan\": 122, \"dekat\": 123, \"mulai\": 124, \"main\": 125, \"tua\": 126, \"diancam\": 127, \"masuk\": 128, \"bertemu\": 129, \"terhadap\": 130, \"pagi\": 131, \"dilecehkan\": 132, \"ibunya\": 133, \"lain\": 134, \"berani\": 135, \"bekerja\": 136, \"kasus\": 137, \"merendahkan\": 138, \"memberikan\": 139, \"daerah\": 140, \"istri\": 141, \"berumur\": 142, \"mendapatkan\": 143, \"menjadi\": 144, \"hal\": 145, \"hubungan\": 146, \"mohon\": 147, \"selamat\": 148, \"ngga\": 149, \"air\": 150, \"baru\": 151, \"punya\": 152, \"dilakukan\": 153, \"jadi\": 154, \"kecil\": 155, \"hanya\": 156, \"berhubungan\": 157, \"tiba\": 158, \"pemerkosaan\": 159, \"tinggal\": 160, \"nilai\": 161, \"namun\": 162, \"kepada\": 163, \"mukul\": 164, \"kepala\": 165, \"mantan\": 166, \"dipukuli\": 167, \"malu\": 168, \"selama\": 169, \"lainnya\": 170, \"smp\": 171, \"mental\": 172, \"beberapa\": 173, \"kerap\": 174, \"menganiaya\": 175, \"akhirnya\": 176, \"menggunakan\": 177, \"sd\": 178, \"telah\": 179, \"bagian\": 180, \"katakata\": 181, \"satu\": 182, \"sore\": 183, \"dada\": 184, \"sendirian\": 185, \"jalanan\": 186, \"biasanya\": 187, \"benda\": 188, \"keras\": 189, \"kulit\": 190, \"kerja\": 191, \"suatu\": 192, \"ditinggal\": 193, \"suaminya\": 194, \"istrinya\": 195, \"banyak\": 196, \"membuat\": 197, \"pencabulan\": 198, \"benci\": 199, \"marah\": 200, \"belajar\": 201, \"kembali\": 202, \"meninggalkan\": 203, \"pria\": 204, \"bawah\": 205, \"memukuli\": 206, \"adanya\": 207, \"dianiaya\": 208, \"bapaknya\": 209, \"membunuh\": 210, \"ga\": 211, \"secara\": 212, \"kenalan\": 213, \"umur\": 214, \"lelaki\": 215, \"dibunuh\": 216, \"bulan\": 217, \"mukulin\": 218, \"segera\": 219, \"sekolahnya\": 220, \"tubuh\": 221, \"tk\": 222, \"kejadian\": 223, \"terjadi\": 224, \"mendengar\": 225, \"bayinya\": 226, \"besar\": 227, \"keluar\": 228, \"ketakutan\": 229, \"gang\": 230, \"terlihat\": 231, \"segerombolan\": 232, \"butuh\": 233, \"dipukul\": 234, \"tidur\": 235, \"nakal\": 236, \"tiri\": 237, \"mengaku\": 238, \"menikah\": 239, \"anakanak\": 240, \"bermain\": 241, \"berguna\": 242, \"bunuh\": 243, \"temannya\": 244, \"tante\": 245, \"medium\": 246, \"kereta\": 247, \"udah\": 248, \"lah\": 249, \"gurunya\": 250, \"suara\": 251, \"y\": 252, \"saja\": 253, \"mencari\": 254, \"bantu\": 255, \"menginap\": 256, \"sungguh\": 257, \"memegang\": 258, \"dipecat\": 259, \"laki\": 260, \"jalan\": 261, \"sekelompok\": 262, \"orangtuanya\": 263, \"kardus\": 264, \"bersama\": 265, \"kami\": 266, \"dibius\": 267, \"berjudi\": 268, \"mengambil\": 269, \"menampar\": 270, \"pasti\": 271, \"benar\": 272, \"mendapat\": 273, \"korban\": 274, \"jarang\": 275, \"tumpul\": 276, \"bercerai\": 277, \"seringkali\": 278, \"belum\": 279, \"staff\": 280, \"judi\": 281, \"bilang\": 282, \"tempat\": 283, \"emosinya\": 284, \"kelas\": 285, \"sebuah\": 286, \"dokter\": 287, \"lebam\": 288, \"pekerjaan\": 289, \"a\": 290, \"tanya\": 291, \"anjing\": 292, \"babi\": 293, \"kata\": 294, \"tadi\": 295, \"hamil\": 296, \"bantuan\": 297, \"nafsu\": 298, \"umpatan\": 299, \"perilaku\": 300, \"sejak\": 301, \"semenjak\": 302, \"stress\": 303, \"tindakan\": 304, \"berada\": 305, \"pendiam\": 306, \"bokong\": 307, \"memperkosa\": 308, \"dosen\": 309, \"melecehkan\": 310, \"disodomi\": 311, \"habis\": 312, \"dikenal\": 313, \"melapor\": 314, \"masturbasi\": 315, \"dengannya\": 316, \"orangtua\": 317, \"dialami\": 318, \"mencoba\": 319, \"bertengkar\": 320, \"berdarah\": 321, \"mungkin\": 322, \"menendang\": 323, \"panas\": 324, \"dilarang\": 325, \"hotel\": 326, \"jam\": 327, \"temanteman\": 328, \"meninggal\": 329, \"rumahnya\": 330, \"disuruh\": 331, \"kabur\": 332, \"capek\": 333, \"diberikan\": 334, \"publik\": 335, \"highlow\": 336, \"berbeda\": 337, \"salah\": 338, \"sayang\": 339, \"disiram\": 340, \"verbal\": 341, \"diasuh\": 342, \"anakanaknya\": 343, \"pake\": 344, \"gatau\": 345, \"didiknya\": 346, \"pantas\": 347, \"diusut\": 348, \"jawab\": 349, \"baik\": 350, \"diberi\": 351, \"perlakuan\": 352, \"sebelah\": 353, \"pembantu\": 354, \"mengatangatai\": 355, \"berkebutuhan\": 356, \"khusus\": 357, \"aneh\": 358, \"goblok\": 359, \"buat\": 360, \"luar\": 361, \"sang\": 362, \"pakaian\": 363, \"nomor\": 364, \"apapun\": 365, \"kantor\": 366, \"meminta\": 367, \"biadab\": 368, \"pacarnya\": 369, \"menjual\": 370, \"z\": 371, \"muridnya\": 372, \"sma\": 373, \"celana\": 374, \"asrama\": 375, \"awalnya\": 376, \"jembatan\": 377, \"hancur\": 378, \"kamar\": 379, \"kabar\": 380, \"disana\": 381, \"bantuannya\": 382, \"memenuhi\": 383, \"disetubuhi\": 384, \"membawa\": 385, \"mengamen\": 386, \"preman\": 387, \"mencurigakan\": 388, \"perdagangan\": 389, \"ayahnya\": 390, \"parah\": 391, \"polisi\": 392, \"dapet\": 393, \"lihat\": 394, \"pengemis\": 395, \"seluruh\": 396, \"keadaan\": 397, \"menyiram\": 398, \"sehari\": 399, \"highmedium\": 400, \"pas\": 401, \"malah\": 402, \"keponakan\": 403, \"mengikuti\": 404, \"high4\": 405, \"bibir\": 406, \"narkoba\": 407, \"rasanya\": 408, \"terkena\": 409, \"diam\": 410, \"ditelantarkan\": 411, \"dibuang\": 412, \"berpacaran\": 413, \"diteror\": 414, \"hukuman\": 415, \"berbuat\": 416, \"kasih\": 417, \"comberan\": 418, \"gangguan\": 419, \"melarang\": 420, \"tajam\": 421, \"kelompok\": 422, \"pisau\": 423, \"albino\": 424, \"wajah\": 425, \"terus\": 426, \"rel\": 427, \"semua\": 428, \"aman\": 429, \"lepas\": 430, \"disiksa\": 431, \"institusi\": 432, \"kalo\": 433, \"mentalnya\": 434, \"lama\": 435, \"apakah\": 436, \"bercanda\": 437, \"percaya\": 438, \"bertanggung\": 439, \"gamau\": 440, \"ikut\": 441, \"bersosialisasi\": 442, \"bagaimana\": 443, \"cara\": 444, \"tuanya\": 445, \"dihamili\": 446, \"diluar\": 447, \"menantu\": 448, \"setan\": 449, \"sebutan\": 450, \"dipermalukan\": 451, \"mempermalukan\": 452, \"direndahkan\": 453, \"pak\": 454, \"ucapan\": 455, \"temen\": 456, \"melahirkan\": 457, \"ngomong\": 458, \"sambil\": 459, \"mengurung\": 460, \"dikatai\": 461, \"menyuruh\": 462, \"tahu\": 463, \"mengatakan\": 464, \"depannya\": 465, \"sedih\": 466, \"monyet\": 467, \"segala\": 468, \"letih\": 469, \"gimana\": 470, \"warna\": 471, \"murid\": 472, \"nyaman\": 473, \"tindak\": 474, \"kotor\": 475, \"nafkah\": 476, \"berpergian\": 477, \"membentak\": 478, \"informasi\": 479, \"kalangan\": 480, \"kota\": 481, \"sahabat\": 482, \"harinya\": 483, \"gosip\": 484, \"mencium\": 485, \"alat\": 486, \"birahinya\": 487, \"busana\": 488, \"mesum\": 489, \"jijik\": 490, \"perusahaan\": 491, \"para\": 492, \"siang\": 493, \"pelecehan\": 494, \"ketua\": 495, \"rt\": 496, \"sengaja\": 497, \"begal\": 498, \"payudara\": 499, \"dipegang\": 500, \"kurang\": 501, \"ajar\": 502, \"mengincar\": 503, \"lebih\": 504, \"intim\": 505, \"agar\": 506, \"dibawa\": 507, \"ditinggalkan\": 508, \"keadilan\": 509, \"akhir\": 510, \"mobil\": 511, \"cek\": 512, \"manusia\": 513, \"perut\": 514, \"memar\": 515, \"lapor\": 516, \"berdarahdarah\": 517, \"ranking\": 518, \"high\": 519, \"dikasih\": 520, \"menjambak\": 521, \"rambut\": 522, \"tembok\": 523, \"ibuibu\": 524, \"tangga\": 525, \"mencuri\": 526, \"pengangguran\": 527, \"sampe\": 528, \"dipukulin\": 529, \"melakukannya\": 530, \"cerai\": 531, \"kdrt\": 532, \"magang\": 533, \"berusia\": 534, \"kaki\": 535, \"patah\": 536, \"dimintai\": 537, \"low\": 538, \"pakai\": 539, \"segansegan\": 540, \"atau\": 541, \"omku\": 542, \"mengurus\": 543, \"sepele\": 544, \"balsem\": 545, \"dijebak\": 546, \"kedua\": 547, \"tanah\": 548, \"dibanting\": 549, \"lahir\": 550, \"pasar\": 551, \"pingsan\": 552, \"kehilangan\": 553, \"cukup\": 554, \"bermasalah\": 555, \"padanya\": 556, \"sensitif\": 557, \"berisik\": 558, \"pentungan\": 559, \"memarmemar\": 560, \"tentang\": 561, \"belakang\": 562, \"cerita\": 563, \"semoga\": 564, \"ditangani\": 565, \"menyakiti\": 566, \"otak\": 567, \"senjata\": 568, \"depresi\": 569, \"alasan\": 570, \"jelas\": 571, \"menusuk\": 572, \"berkalikali\": 573, \"badannya\": 574, \"balsam\": 575, \"langsung\": 576, \"ditendang\": 577, \"tuna\": 578, \"rungu\": 579, \"bully\": 580, \"mertua\": 581, \"menerima\": 582, \"jelek\": 583, \"kenapa\": 584, \"jahat\": 585, \"saudara\": 586, \"lakilakinya\": 587, \"putus\": 588, \"meneror\": 589, \"ditahan\": 590, \"penganiayaan\": 591, \"dirawat\": 592, \"terganggu\": 593, \"kalah\": 594, \"seenaknya\": 595, \"membuka\": 596, \"baju\": 597, \"kepadanya\": 598, \"4\": 599, \"cuma\": 600, \"karna\": 601, \"alami\": 602, \"d\": 603, \"tp\": 604, \"kandungnya\": 605, \"kejadiannya\": 606, \"yg\": 607, \"menghukum\": 608, \"hidup\": 609, \"darinya\": 610, \"6\": 611, \"sedangkan\": 612, \"ditelusuri\": 613, \"bunda\": 614, \"mamah\": 615, \"maupun\": 616, \"minggu\": 617, \"terpikirkan\": 618, \"warga\": 619, \"menyebabkan\": 620, \"harmonis\": 621, \"kerapkali\": 622, \"boss\": 623, \"permintaannya\": 624, \"ditampar\": 625, \"orangnya\": 626, \"bengis\": 627, \"taman\": 628, \"semenamena\": 629, \"hati\": 630, \"binatang\": 631, \"menyakitkan\": 632, \"rendah\": 633, \"membelanya\": 634, \"sesenggukan\": 635, \"keliling\": 636, \"b\": 637, \"khalayak\": 638, \"memakai\": 639, \"idiot\": 640, \"ngatangatain\": 641, \"cenderung\": 642, \"kembar\": 643, \"dikatain\": 644, \"dengarnya\": 645, \"nulis\": 646, \"nangis\": 647, \"gak\": 648, \"ngelawan\": 649, \"maksa\": 650, \"tengah\": 651, \"dimakimaki\": 652, \"psikolog\": 653, \"dua\": 654, \"mengingatkan\": 655, \"mengeluh\": 656, \"melaksanakan\": 657, \"tatapan\": 658, \"telusuri\": 659, \"cantik\": 660, \"sekelasnya\": 661, \"gaada\": 662, \"bipolar\": 663, \"soalnya\": 664, \"ngatain\": 665, \"nikahi\": 666, \"jawaban\": 667, \"ujian\": 668, \"datang\": 669, \"isi\": 670, \"rasa\": 671, \"nenek\": 672, \"membenci\": 673, \"terusterusan\": 674, \"negeri\": 675, \"bareng\": 676, \"kejelasan\": 677, \"katakatanya\": 678, \"sebelumnya\": 679, \"pikir\": 680, \"menghina\": 681, \"bodoh\": 682, \"tolol\": 683, \"memarahi\": 684, \"ras\": 685, \"berasal\": 686, \"setempat\": 687, \"menceraikan\": 688, \"menafkahi\": 689, \"berdaya\": 690, \"melampiaskan\": 691, \"berkata\": 692, \"indonesia\": 693, \"tugas\": 694, \"masalah\": 695, \"tutur\": 696, \"terdapat\": 697, \"fitnah\": 698, \"tau\": 699, \"dipanggil\": 700, \"tementemen\": 701, \"ngantor\": 702, \"simpanan\": 703, \"kita\": 704, \"olehnya\": 705, \"beredar\": 706, \"kepercayaan\": 707, \"membunuhnya\": 708, \"kerumah\": 709, \"keterbelakangan\": 710, \"pencuri\": 711, \"kaya\": 712, \"hilang\": 713, \"memuaskan\": 714, \"video\": 715, \"rekaman\": 716, \"menyebarkan\": 717, \"privat\": 718, \"staf\": 719, \"merantau\": 720, \"kosan\": 721, \"pelaku\": 722, \"surat\": 723, \"pramugari\": 724, \"kampus\": 725, \"lulus\": 726, \"tertutup\": 727, \"dibawah\": 728, \"alamatnya\": 729, \"dulu\": 730, \"bibi\": 731, \"umurnya\": 732, \"ipar\": 733, \"paman\": 734, \"menggerayangi\": 735, \"psk\": 736, \"seks\": 737, \"melanjutkan\": 738, \"disitu\": 739, \"sodom\": 740, \"bisnis\": 741, \"aktivitas\": 742, \"diikat\": 743, \"diculik\": 744, \"usut\": 745, \"biasa\": 746, \"plat\": 747, \"aksinya\": 748, \"muka\": 749, \"seseorang\": 750, \"sy\": 751, \"tubuhnya\": 752, \"jg\": 753, \"pedofil\": 754, \"foto\": 755, \"sinting\": 756, \"diraba\": 757, \"ruangan\": 758, \"sadarkan\": 759, \"sadar\": 760, \"kawasan\": 761, \"cepat\": 762, \"mengeluhkan\": 763, \"motor\": 764, \"naik\": 765, \"mengimingimingi\": 766, \"tertidur\": 767, \"paksa\": 768, \"melayani\": 769, \"berangkat\": 770, \"kkn\": 771, \"bersembunyi\": 772, \"membantu\": 773, \"mengembalikan\": 774, \"atasan\": 775, \"pemerkosaaan\": 776, \"terimakasih\": 777, \"desa\": 778, \"atasannya\": 779, \"membius\": 780, \"selidiki\": 781, \"jauh\": 782, \"uangnya\": 783, \"mengemis\": 784, \"berjualan\": 785, \"barang\": 786, \"dijual\": 787, \"pelabuhan\": 788, \"merupakan\": 789, \"sampah\": 790, \"bersekolah\": 791, \"tiga\": 792, \"ataupun\": 793, \"memberi\": 794, \"kebingungan\": 795, \"kosong\": 796, \"broken\": 797, \"home\": 798, \"dituntut\": 799, \"sempurna\": 800, \"bat\": 801, \"baseball\": 802, \"berusaha\": 803, \"digubris\": 804, \"memecahkan\": 805, \"botol\": 806, \"menghantamkannya\": 807, \"berhasil\": 808, \"mendorong\": 809, \"pulas\": 810, \"berjamjam\": 811, \"dugaan\": 812, \"tabungan\": 813, \"nyiksa\": 814, \"balita\": 815, \"melepuh\": 816, \"ketemu\": 817, \"melebihi\": 818, \"high5\": 819, \"neneknya\": 820, \"ayahku\": 821, \"tanteku\": 822, \"rumahku\": 823, \"nurutin\": 824, \"suruhan\": 825, \"melempar\": 826, \"kepadaku\": 827, \"berkunjung\": 828, \"alasannya\": 829, \"menjitak\": 830, \"menamparku\": 831, \"dipisahkan\": 832, \"jatuh\": 833, \"asuhan\": 834, \"perintahnya\": 835, \"kejam\": 836, \"menaruh\": 837, \"beli\": 838, \"aksesorisyang\": 839, \"aksesorisnya\": 840, \"sapu\": 841, \"lidi\": 842, \"gesper\": 843, \"makanya\": 844, \"ngancem\": 845, \"kerjanya\": 846, \"bener\": 847, \"yatim\": 848, \"piatu\": 849, \"lemparan\": 850, \"batu\": 851, \"dididik\": 852, \"manusiawi\": 853, \"mulut\": 854, \"membanting\": 855, \"dinafkahi\": 856, \"keanehan\": 857, \"tulangnya\": 858, \"normal\": 859, \"diakui\": 860, \"halte\": 861, \"liat\": 862, \"medium5\": 863, \"kesadaran\": 864, \"high8\": 865, \"mengadopsi\": 866, \"membantingnya\": 867, \"memukulnya\": 868, \"menamparnya\": 869, \"high6\": 870, \"bentuk\": 871, \"kelainan\": 872, \"komplek\": 873, \"benuh\": 874, \"bakteri\": 875, \"dampaknya\": 876, \"benjol\": 877, \"bersekongkol\": 878, \"lukaluka\": 879, \"barangbarang\": 880, \"menasehatinya\": 881, \"pistol\": 882, \"mayatnya\": 883, \"disembunyikan\": 884, \"siapa\": 885, \"didiagnisos\": 886, \"gegar\": 887, \"dibuli\": 888, \"got\": 889, \"disayat\": 890, \"seringnya\": 891, \"senang\": 892, \"membully\": 893, \"dioleskan\": 894, \"ketahuan\": 895, \"selingkuh\": 896, \"selingkuhan\": 897, \"melindungi\": 898, \"ditonjok\": 899, \"nonjok\": 900, \"cacat\": 901, \"mantunya\": 902, \"celurit\": 903, \"tawuran\": 904, \"keadaannya\": 905, \"koma\": 906, \"tulang\": 907, \"ekor\": 908, \"janda\": 909, \"menyiksa\": 910, \"bagus\": 911, \"terbukti\": 912, \"balok\": 913, \"leher\": 914, \"anggota\": 915, \"nyiram\": 916, \"melawan\": 917, \"sebenarnya\": 918, \"boleh\": 919, \"nampar\": 920, \"nyubit\": 921, \"perlu\": 922, \"pasien\": 923, \"jiwa\": 924, \"nyiramin\": 925, \"menahan\": 926, \"teror\": 927, \"memberikannya\": 928, \"sirih\": 929, \"katanya\": 930, \"mendisiplinkan\": 931, \"5\": 932, \"menyiramkan\": 933, \"dingin\": 934, \"terulang\": 935, \"proses\": 936, \"9tahun\": 937, \"kls\": 938, \"visikini\": 939, \"anaku\": 940, \"visik\": 941, \"g\": 942, \"lg\": 943, \"minta\": 944, \"keponakanku\": 945, \"perkosa\": 946, \"ayahh\": 947, \"tirinya\": 948, \"batin\": 949, \"dikarenakan\": 950, \"membongkar\": 951, \"kecurangan\": 952, \"usbn\": 953, \"unbk\": 954, \"dimaki\": 955, \"kotoran\": 956, \"menghamili\": 957, \"kak\": 958, \"tengahtengah\": 959, \"temperamental\": 960, \"melepaskan\": 961, \"mamanya\": 962, \"nggak\": 963, \"satupun\": 964, \"bertindak\": 965, \"laporan\": 966, \"pisah\": 967, \"adek\": 968, \"sekolahh\": 969, \"ekskul\": 970, \"aja\": 971, \"membujuknya\": 972, \"slb\": 973, \"tertangani\": 974, \"sekampung\": 975, \"berikut\": 976, \"menolong\": 977, \"daya\": 978, \"mengadu\": 979, \"kesalahan\": 980, \"terdengar\": 981, \"teriakan\": 982, \"bibirnya\": 983, \"bolakbalik\": 984, \"sepupu\": 985, \"sedikit\": 986, \"garagara\": 987, \"ngelindungin\": 988, \"bakal\": 989, \"kayak\": 990, \"papah\": 991, \"sisi\": 992, \"bagaikan\": 993, \"kompak\": 994, \"lenyap\": 995, \"dunia\": 996, \"yaitu\": 997, \"irt\": 998, \"rapot\": 999, \"dilihat\": 1000, \"tanggung\": 1001, \"pecah\": 1002, \"pertengkaran\": 1003, \"hebat\": 1004, \"pasutri\": 1005, \"rumahmasalahnya\": 1006, \"mengganggu\": 1007, \"bantingan\": 1008, \"perginya\": 1009, \"dar\": 1010, \"rumsh\": 1011, \"melampiarskan\": 1012, \"rmosinya\": 1013, \"pads\": 1014, \"kapanya\": 1015, \"keluargaku\": 1016, \"pengainayaan\": 1017, \"lebamleban\": 1018, \"menuruti\": 1019, \"enteng\": 1020, \"nendang\": 1021, \"terluka\": 1022, \"kelompoknya\": 1023, \"keluarganya\": 1024, \"terkecuali\": 1025, \"segan\": 1026, \"puskesmas\": 1027, \"membicarakan\": 1028, \"beliau\": 1029, \"memanggil\": 1030, \"menyayangi\": 1031, \"apa\": 1032, \"disebut\": 1033, \"iblis\": 1034, \"ribut\": 1035, \"dipandang\": 1036, \"dikucilkan\": 1037, \"psikis\": 1038, \"berteriak\": 1039, \"memakimaki\": 1040, \"muridmuridnya\": 1041, \"menggantungkan\": 1042, \"sepatu\": 1043, \"lehernya\": 1044, \"berlari\": 1045, \"pusat\": 1046, \"pemerintahan\": 1047, \"mengecewakan\": 1048, \"staffnya\": 1049, \"menceritakan\": 1050, \"aibaib\": 1051, \"perpeloncoan\": 1052, \"atributatribut\": 1053, \"hukumannya\": 1054, \"dijemur\": 1055, \"dipertontonkan\": 1056, \"tentangga\": 1057, \"keterbatasan\": 1058, \"gasuka\": 1059, \"sebangku\": 1060, \"ngomongnya\": 1061, \"malumaluin\": 1062, \"nyebar\": 1063, \"rahasia\": 1064, \"smk\": 1065, \"bego\": 1066, \"diuntung\": 1067, \"harap\": 1068, \"penyelesaian\": 1069, \"aborsi\": 1070, \"mengungkitungkit\": 1071, \"menyesal\": 1072, \"membolehkan\": 1073, \"kan\": 1074, \"kehidupan\": 1075, \"membantah\": 1076, \"kemampuan\": 1077, \"berpikir\": 1078, \"dibangunkan\": 1079, \"dikatakatai\": 1080, \"marahmarah\": 1081, \"percekcokan\": 1082, \"sehingga\": 1083, \"didiagnosis\": 1084, \"skizofrenia\": 1085, \"inginkan\": 1086, \"memfitnah\": 1087, \"diucapkan\": 1088, \"medium0\": 1089, \"tahunan\": 1090, \"sopan\": 1091, \"menempeleng\": 1092, \"menginjak\": 1093, \"hormat\": 1094, \"pergoki\": 1095, \"karir\": 1096, \"mengurusi\": 1097, \"bahkan\": 1098, \"melihatnya\": 1099, \"pualng\": 1100, \"j\": 1101, \"ngeliat\": 1102, \"bullying\": 1103, \"keriting\": 1104, \"mencubit\": 1105, \"pembullyian\": 1106, \"geng\": 1107, \"melindunginya\": 1108, \"dibandingbandingkan\": 1109, \"penuh\": 1110, \"istirahat\": 1111, \"bukanlah\": 1112, \"populer\": 1113, \"tampan\": 1114, \"perempuanperempuan\": 1115, \"pacark\": 1116, \"apalagi\": 1117, \"memandang\": 1118, \"merendahkannya\": 1119, \"doang\": 1120, \"rangking\": 1121, \"stabil\": 1122, \"berharga\": 1123, \"sayasangat\": 1124, \"menghargai\": 1125, \"pertamanya\": 1126, \"mantu\": 1127, \"berucap\": 1128, \"nada\": 1129, \"ngarepin\": 1130, \"gendut\": 1131, \"menarik\": 1132, \"memaki\": 1133, \"pemuas\": 1134, \"ibuku\": 1135, \"dipermainkan\": 1136, \"diketawakan\": 1137, \"keterbataasannya\": 1138, \"menyuarakan\": 1139, \"kepalanya\": 1140, \"abusive\": 1141, \"sekalipun\": 1142, \"menghujat\": 1143, \"gagal\": 1144, \"mudah\": 1145, \"ngelampiasin\": 1146, \"marahin\": 1147, \"emang\": 1148, \"sih\": 1149, \"nyakitin\": 1150, \"kenapanapa\": 1151, \"semakin\": 1152, \"emosional\": 1153, \"ngelontarin\": 1154, \"dirasisin\": 1155, \"kulitnya\": 1156, \"hitam\": 1157, \"buangan\": 1158, \"rasisme\": 1159, \"berdasarkan\": 1160, \"menyukai\": 1161, \"penampilan\": 1162, \"operasi\": 1163, \"plastik\": 1164, \"nanti\": 1165, \"peduli\": 1166, \"pernikahan\": 1167, \"dikatakan\": 1168, \"pelacur\": 1169, \"bajingan\": 1170, \"membawabawa\": 1171, \"demikian\": 1172, \"mainmain\": 1173, \"dipikirkan\": 1174, \"terlebih\": 1175, \"dahulu\": 1176, \"dampak\": 1177, \"kedepannya\": 1178, \"mengatakannya\": 1179, \"mengintimidasi\": 1180, \"mampu\": 1181, \"pembullyan\": 1182, \"bunga\": 1183, \"7\": 1184, \"sejumlah\": 1185, \"turis\": 1186, \"rasis\": 1187, \"kursinya\": 1188, \"menghilang\": 1189, \"berita\": 1190, \"memikirkan\": 1191, \"perasaan\": 1192, \"berbicara\": 1193, \"mengucapkan\": 1194, \"mengumpat\": 1195, \"pengaruh\": 1196, \"suamiku\": 1197, \"menentang\": 1198, \"kemarahannya\": 1199, \"wna\": 1200, \"lakukan\": 1201, \"ditentang\": 1202, \"sesuai\": 1203, \"keinginannya\": 1204, \"menganggap\": 1205, \"disayang\": 1206, \"dicintai\": 1207, \"buruk\": 1208, \"susah\": 1209, \"tergadap\": 1210, \"hadapan\": 1211, \"meremehkan\": 1212, \"perkataannya\": 1213, \"nikah\": 1214, \"mengatasi\": 1215, \"bulu\": 1216, \"lebat\": 1217, \"dengernya\": 1218, \"koleganya\": 1219, \"dengar\": 1220, \"asusila\": 1221, \"psikiater\": 1222, \"dijodohkan\": 1223, \"cinta\": 1224, \"diantara\": 1225, \"tersiksa\": 1226, \"xyz\": 1227, \"diskotik\": 1228, \"cari\": 1229, \"mengatasinya\": 1230, \"stres\": 1231, \"supermarket\": 1232, \"bapakbapak\": 1233, \"menertawakan\": 1234, \"kalangna\": 1235, \"ngebentak\": 1236, \"berselingkuh\": 1237, \"memberitahukannya\": 1238, \"tai\": 1239, \"aksi\": 1240, \"jahatnya\": 1241, \"dilaporkan\": 1242, \"apaapa\": 1243, \"dibentak\": 1244, \"gerbong\": 1245, \"kursi\": 1246, \"priority\": 1247, \"seat\": 1248, \"low0\": 1249, \"dimanfaatkan\": 1250, \"berteman\": 1251, \"ngerendahin\": 1252, \"tuli\": 1253, \"make\": 1254, \"telinga\": 1255, \"ngetawain\": 1256, \"nyoba\": 1257, \"intonasinya\": 1258, \"menurut\": 1259, \"dianggap\": 1260, \"beban\": 1261, \"sial\": 1262, \"memanfaatkan\": 1263, \"menunjukkan\": 1264, \"fotofoto\": 1265, \"kasarnya\": 1266, \"diajak\": 1267, \"gambar\": 1268, \"gamabr\": 1269, \"grup\": 1270, \"kacau\": 1271, \"usianya\": 1272, \"terkadang\": 1273, \"hidung\": 1274, \"belang\": 1275, \"menjadikan\": 1276, \"penghasil\": 1277, \"dicabuli\": 1278, \"megang\": 1279, \"denganku\": 1280, \"memang\": 1281, \"memegangku\": 1282, \"mengelus\": 1283, \"kontak\": 1284, \"kuliah\": 1285, \"srkarang\": 1286, \"dipegangpegang\": 1287, \"ngekos\": 1288, \"kamarnya\": 1289, \"menemuka\": 1290, \"kosannya\": 1291, \"dalammereka\": 1292, \"mengiyakan\": 1293, \"curiga\": 1294, \"pencurian\": 1295, \"menuliskan\": 1296, \"jakarta\": 1297, \"menjenguk\": 1298, \"mendorongnya\": 1299, \"dirut\": 1300, \"mata\": 1301, \"pelajarannya\": 1302, \"no\": 1303, \"gay\": 1304, \"tentagga\": 1305, \"kesakitan\": 1306, \"ngedate\": 1307, \"dikelilingi\": 1308, \"dibekam\": 1309, \"mulutnya\": 1310, \"ramairamai\": 1311, \"menghilangkan\": 1312, \"memegangmegang\": 1313, \"privasinya\": 1314, \"heran\": 1315, \"akal\": 1316, \"menyentuh\": 1317, \"memperlihatkan\": 1318, \"ketidaknyamanan\": 1319, \"rasakan\": 1320, \"memasang\": 1321, \"cabul\": 1322, \"penyendiri\": 1323, \"kejanggalan\": 1324, \"sya\": 1325, \"mendidik\": 1326, \"9\": 1327, \"pendidikan\": 1328, \"bercerita\": 1329, \"dikeluarkan\": 1330, \"mendaftar\": 1331, \"dibiayi\": 1332, \"antara\": 1333, \"buktinya\": 1334, \"kelasnya\": 1335, \"urusan\": 1336, \"ceria\": 1337, \"bu\": 1338, \"sehabis\": 1339, \"maling\": 1340, \"menjerit\": 1341, \"nemu\": 1342, \"hampiri\": 1343, \"diimingimingi\": 1344, \"penipu\": 1345, \"melewati\": 1346, \"lewati\": 1347, \"motornya\": 1348, \"bingung\": 1349, \"kemana\": 1350, \"supaya\": 1351, \"dihukum\": 1352, \"seberat\": 1353, \"beratnya\": 1354, \"dibegal\": 1355, \"seharian\": 1356, \"les\": 1357, \"dicegat\": 1358, \"rumor\": 1359, \"lurus\": 1360, \"mentangmentang\": 1361, \"setelahnya\": 1362, \"seangkatan\": 1363, \"izinkan\": 1364, \"terkhianati\": 1365, \"longgar\": 1366, \"paling\": 1367, \"marsturbasi\": 1368, \"arah\": 1369, \"mendapati\": 1370, \"dadanya\": 1371, \"suks\": 1372, \"kantornya\": 1373, \"tak\": 1374, \"hentinya\": 1375, \"menenangkan\": 1376, \"bicara\": 1377, \"nsmun\": 1378, \"camping\": 1379, \"acara\": 1380, \"mendatangi\": 1381, \"camp\": 1382, \"badsn\": 1383, \"bergerak\": 1384, \"pegang\": 1385, \"masalahnya\": 1386, \"pantat\": 1387, \"digerayangi\": 1388, \"diselidiki\": 1389, \"alumni\": 1390, \"men\": 1391, \"tweet\": 1392, \"cuddle\": 1393, \"berpelukan\": 1394, \"setuju\": 1395, \"kesempatan\": 1396, \"consent\": 1397, \"enggan\": 1398, \"knp\": 1399, \"bnyk\": 1400, \"bekas\": 1401, \"merah\": 1402, \"sk\": 1403, \"diem\": 1404, \"akhirmedium\": 1405, \"kampung\": 1406, \"keberadaannya\": 1407, \"sgt\": 1408, \"meresahkan\": 1409, \"mengendap\": 1410, \"menyetubuhi\": 1411, \"dilarikan\": 1412, \"iseng\": 1413, \"mengunggah\": 1414, \"selfi\": 1415, \"internet\": 1416, \"dapat\": 1417, \"kuliaj\": 1418, \"selfie\": 1419, \"kolega\": 1420, \"keperluan\": 1421, \"gerayangi\": 1422, \"snagat\": 1423, \"diperlakukan\": 1424, \"bosnya\": 1425, \"raba\": 1426, \"bermoral\": 1427, \"meeting\": 1428, \"bos\": 1429, \"sayatapi\": 1430, \"dikunci\": 1431, \"dilemahkan\": 1432, \"bius\": 1433, \"mengkonfrontasinya\": 1434, \"menemaninya\": 1435, \"bandung\": 1436, \"ya\": 1437, \"temani\": 1438, \"perjalanan\": 1439, \"menggrayangi\": 1440, \"kadang\": 1441, \"berkatakata\": 1442, \"menuju\": 1443, \"mengendarai\": 1444, \"club\": 1445, \"bossnya\": 1446, \"pangkat\": 1447, \"lengah\": 1448, \"mengindap\": 1449, \"sepengetahuan\": 1450, \"beserta\": 1451, \"asramanya\": 1452, \"merpati\": 1453, \"tenggara\": 1454, \"tetap\": 1455, \"remaja\": 1456, \"omom\": 1457, \"mengakui\": 1458, \"pakaiannya\": 1459, \"terlalu\": 1460, \"terbuka\": 1461, \"payudaranya\": 1462, \"frustasi\": 1463, \"caranya\": 1464, \"melupakan\": 1465, \"roknya\": 1466, \"diangkat\": 1467, \"koko\": 1468, \"si\": 1469, \"sekampusnya\": 1470, \"toilet\": 1471, \"umum\": 1472, \"intinm\": 1473, \"mememnuhi\": 1474, \"hasratnya\": 1475, \"imingiming\": 1476, \"menyodomi\": 1477, \"hawa\": 1478, \"nafsunya\": 1479, \"diperbolehkan\": 1480, \"program\": 1481, \"masker\": 1482, \"topi\": 1483, \"hotam\": 1484, \"jaket\": 1485, \"hoodie\": 1486, \"berwarna\": 1487, \"abuabu\": 1488, \"memainkan\": 1489, \"kelaminnya\": 1490, \"menuntut\": 1491, \"lemari\": 1492, \"gerombolan\": 1493, \"penjahat\": 1494, \"kekeraasan\": 1495, \"mahasiswanya\": 1496, \"semester\": 1497, \"pengakuan\": 1498, \"dosa\": 1499, \"kapel\": 1500, \"romo\": 1501, \"bertugas\": 1502, \"rabaraba\": 1503, \"dicium\": 1504, \"dalih\": 1505, \"ekonomi\": 1506, \"ruang\": 1507, \"kakaknya\": 1508, \"atas\": 1509, \"majikannya\": 1510, \"meraba\": 1511, \"terlarang\": 1512, \"ancaman\": 1513, \"kenal\": 1514, \"flamboyan\": 1515, \"tindakannya\": 1516, \"penyakit\": 1517, \"detik\": 1518, \"ganggua\": 1519, \"rentenir\": 1520, \"meminjamkan\": 1521, \"dipinjam\": 1522, \"biaya\": 1523, \"berobat\": 1524, \"lokasi\": 1525, \"berat\": 1526, \"penanganan\": 1527, \"secepatnya\": 1528, \"ditindak\": 1529, \"lanjuti\": 1530, \"kegiatan\": 1531, \"klinis\": 1532, \"konseling\": 1533, \"bajunya\": 1534, \"ditarik\": 1535, \"dirobek\": 1536, \"dalamnya\": 1537, \"ditari\": 1538, \"cafe\": 1539, \"barista\": 1540, \"memperkosanya\": 1541, \"rawan\": 1542, \"asing\": 1543, \"perumahan\": 1544, \"paruh\": 1545, \"baya\": 1546, \"meremas\": 1547, \"pun\": 1548, \"penerbangan\": 1549, \"direktur\": 1550, \"utamanya\": 1551, \"terjebak\": 1552, \"gaji\": 1553, \"tinggi\": 1554, \"memecat\": 1555, \"karyawan\": 1556, \"perempuannya\": 1557, \"kelasku\": 1558, \"merobek\": 1559, \"bajuku\": 1560, \"menyibakkan\": 1561, \"rokku\": 1562, \"ditertawakan\": 1563, \"laknat\": 1564, \"o\": 1565, \"guruguru\": 1566, \"mengajar\": 1567, \"kandungan\": 1568, \"kandungannya\": 1569, \"mencheck\": 1570, \"serba\": 1571, \"masa\": 1572, \"bejat\": 1573, \"terbangun\": 1574, \"taruh\": 1575, \"cctv\": 1576, \"harga\": 1577, \"menyetorkan\": 1578, \"trotoar\": 1579, \"sembilan\": 1580, \"lima\": 1581, \"mengmis\": 1582, \"tisu\": 1583, \"disetor\": 1584, \"memintaminta\": 1585, \"menggendong\": 1586, \"sepertinya\": 1587, \"menyewakan\": 1588, \"berkeliling\": 1589, \"mengasong\": 1590, \"diusir\": 1591, \"komplotan\": 1592, \"asongan\": 1593, \"dagangan\": 1594, \"kerumahnya\": 1595, \"bandar\": 1596, \"dimasukkan\": 1597, \"kontainer\": 1598, \"barat\": 1599, \"barusan\": 1600, \"bhigh456xyz\": 1601, \"usaha\": 1602, \"ilegal\": 1603, \"memasarkan\": 1604, \"pekerja\": 1605, \"komersial\": 1606, \"kontruksi\": 1607, \"dipulangkan\": 1608, \"diduga\": 1609, \"beralamatkan\": 1610, \"melati\": 1611, \"sepuluh\": 1612, \"pengguna\": 1613, \"dilantarkan\": 1614, \"pembuangan\": 1615, \"mengharuskan\": 1616, \"diharuskan\": 1617, \"kotak\": 1618, \"menumpang\": 1619, \"saudaranya\": 1620, \"flyover\": 1621, \"ditinggalin\": 1622, \"papaku\": 1623, \"ninggalin\": 1624, \"gapernah\": 1625, \"balik\": 1626, \"perhan\": 1627, \"kerjaanya\": 1628, \"mabokmabokan\": 1629, \"menanggung\": 1630, \"hidupnya\": 1631, \"membuang\": 1632, \"terkunci\": 1633, \"sekelompk\": 1634, \"menelantarkan\": 1635, \"sakitsakitan\": 1636, \"sanggup\": 1637, \"keesokkan\": 1638, \"tersebuat\": 1639, \"ditanya\": 1640, \"terkenal\": 1641, \"bertanggungjawab\": 1642, \"berjalan\": 1643, \"diatas\": 1644, \"rak\": 1645, \"mengapung\": 1646, \"setleah\": 1647, \"tangis\": 1648, \"seorag\": 1649, \"ujung\": 1650, \"minum\": 1651, \"minuman\": 1652, \"waktu\": 1653, \"tangisan\": 1654, \"batyi\": 1655, \"ayng\": 1656, \"tersbut\": 1657, \"selembar\": 1658}'"
            ]
          },
          "metadata": {
            "tags": []
          },
          "execution_count": 26
        }
      ]
    },
    {
      "cell_type": "code",
      "metadata": {
        "colab": {
          "base_uri": "https://localhost:8080/"
        },
        "id": "KypvrOnEa6Vs",
        "outputId": "b239d9f6-f686-4e3f-e9ff-d4a381af185e"
      },
      "source": [
        "pip install tensorflowjs"
      ],
      "execution_count": null,
      "outputs": [
        {
          "output_type": "stream",
          "text": [
            "Collecting tensorflowjs\n",
            "\u001b[?25l  Downloading https://files.pythonhosted.org/packages/28/5a/2497b3ba86f5f1c2c7539e0bc5d957146a5ed71acfb6c66f644974af4309/tensorflowjs-3.6.0-py3-none-any.whl (63kB)\n",
            "\u001b[K     |████████████████████████████████| 71kB 5.4MB/s \n",
            "\u001b[?25hCollecting tensorflow-hub<0.10,>=0.7.0\n",
            "\u001b[?25l  Downloading https://files.pythonhosted.org/packages/ac/83/a7df82744a794107641dad1decaad017d82e25f0e1f761ac9204829eef96/tensorflow_hub-0.9.0-py2.py3-none-any.whl (103kB)\n",
            "\u001b[K     |████████████████████████████████| 112kB 10.3MB/s \n",
            "\u001b[?25hRequirement already satisfied: tensorflow<3,>=2.1.0 in /usr/local/lib/python3.7/dist-packages (from tensorflowjs) (2.5.0)\n",
            "Requirement already satisfied: six<2,>=1.12.0 in /usr/local/lib/python3.7/dist-packages (from tensorflowjs) (1.15.0)\n",
            "Requirement already satisfied: protobuf>=3.8.0 in /usr/local/lib/python3.7/dist-packages (from tensorflow-hub<0.10,>=0.7.0->tensorflowjs) (3.12.4)\n",
            "Requirement already satisfied: numpy>=1.12.0 in /usr/local/lib/python3.7/dist-packages (from tensorflow-hub<0.10,>=0.7.0->tensorflowjs) (1.19.5)\n",
            "Requirement already satisfied: opt-einsum~=3.3.0 in /usr/local/lib/python3.7/dist-packages (from tensorflow<3,>=2.1.0->tensorflowjs) (3.3.0)\n",
            "Requirement already satisfied: wheel~=0.35 in /usr/local/lib/python3.7/dist-packages (from tensorflow<3,>=2.1.0->tensorflowjs) (0.36.2)\n",
            "Requirement already satisfied: wrapt~=1.12.1 in /usr/local/lib/python3.7/dist-packages (from tensorflow<3,>=2.1.0->tensorflowjs) (1.12.1)\n",
            "Requirement already satisfied: keras-nightly~=2.5.0.dev in /usr/local/lib/python3.7/dist-packages (from tensorflow<3,>=2.1.0->tensorflowjs) (2.5.0.dev2021032900)\n",
            "Requirement already satisfied: absl-py~=0.10 in /usr/local/lib/python3.7/dist-packages (from tensorflow<3,>=2.1.0->tensorflowjs) (0.12.0)\n",
            "Requirement already satisfied: flatbuffers~=1.12.0 in /usr/local/lib/python3.7/dist-packages (from tensorflow<3,>=2.1.0->tensorflowjs) (1.12)\n",
            "Requirement already satisfied: h5py~=3.1.0 in /usr/local/lib/python3.7/dist-packages (from tensorflow<3,>=2.1.0->tensorflowjs) (3.1.0)\n",
            "Requirement already satisfied: astunparse~=1.6.3 in /usr/local/lib/python3.7/dist-packages (from tensorflow<3,>=2.1.0->tensorflowjs) (1.6.3)\n",
            "Requirement already satisfied: tensorboard~=2.5 in /usr/local/lib/python3.7/dist-packages (from tensorflow<3,>=2.1.0->tensorflowjs) (2.5.0)\n",
            "Requirement already satisfied: grpcio~=1.34.0 in /usr/local/lib/python3.7/dist-packages (from tensorflow<3,>=2.1.0->tensorflowjs) (1.34.1)\n",
            "Requirement already satisfied: tensorflow-estimator<2.6.0,>=2.5.0rc0 in /usr/local/lib/python3.7/dist-packages (from tensorflow<3,>=2.1.0->tensorflowjs) (2.5.0)\n",
            "Requirement already satisfied: gast==0.4.0 in /usr/local/lib/python3.7/dist-packages (from tensorflow<3,>=2.1.0->tensorflowjs) (0.4.0)\n",
            "Requirement already satisfied: termcolor~=1.1.0 in /usr/local/lib/python3.7/dist-packages (from tensorflow<3,>=2.1.0->tensorflowjs) (1.1.0)\n",
            "Requirement already satisfied: google-pasta~=0.2 in /usr/local/lib/python3.7/dist-packages (from tensorflow<3,>=2.1.0->tensorflowjs) (0.2.0)\n",
            "Requirement already satisfied: typing-extensions~=3.7.4 in /usr/local/lib/python3.7/dist-packages (from tensorflow<3,>=2.1.0->tensorflowjs) (3.7.4.3)\n",
            "Requirement already satisfied: keras-preprocessing~=1.1.2 in /usr/local/lib/python3.7/dist-packages (from tensorflow<3,>=2.1.0->tensorflowjs) (1.1.2)\n",
            "Requirement already satisfied: setuptools in /usr/local/lib/python3.7/dist-packages (from protobuf>=3.8.0->tensorflow-hub<0.10,>=0.7.0->tensorflowjs) (56.1.0)\n",
            "Requirement already satisfied: cached-property; python_version < \"3.8\" in /usr/local/lib/python3.7/dist-packages (from h5py~=3.1.0->tensorflow<3,>=2.1.0->tensorflowjs) (1.5.2)\n",
            "Requirement already satisfied: tensorboard-data-server<0.7.0,>=0.6.0 in /usr/local/lib/python3.7/dist-packages (from tensorboard~=2.5->tensorflow<3,>=2.1.0->tensorflowjs) (0.6.1)\n",
            "Requirement already satisfied: google-auth-oauthlib<0.5,>=0.4.1 in /usr/local/lib/python3.7/dist-packages (from tensorboard~=2.5->tensorflow<3,>=2.1.0->tensorflowjs) (0.4.4)\n",
            "Requirement already satisfied: werkzeug>=0.11.15 in /usr/local/lib/python3.7/dist-packages (from tensorboard~=2.5->tensorflow<3,>=2.1.0->tensorflowjs) (1.0.1)\n",
            "Requirement already satisfied: tensorboard-plugin-wit>=1.6.0 in /usr/local/lib/python3.7/dist-packages (from tensorboard~=2.5->tensorflow<3,>=2.1.0->tensorflowjs) (1.8.0)\n",
            "Requirement already satisfied: google-auth<2,>=1.6.3 in /usr/local/lib/python3.7/dist-packages (from tensorboard~=2.5->tensorflow<3,>=2.1.0->tensorflowjs) (1.30.0)\n",
            "Requirement already satisfied: markdown>=2.6.8 in /usr/local/lib/python3.7/dist-packages (from tensorboard~=2.5->tensorflow<3,>=2.1.0->tensorflowjs) (3.3.4)\n",
            "Requirement already satisfied: requests<3,>=2.21.0 in /usr/local/lib/python3.7/dist-packages (from tensorboard~=2.5->tensorflow<3,>=2.1.0->tensorflowjs) (2.23.0)\n",
            "Requirement already satisfied: requests-oauthlib>=0.7.0 in /usr/local/lib/python3.7/dist-packages (from google-auth-oauthlib<0.5,>=0.4.1->tensorboard~=2.5->tensorflow<3,>=2.1.0->tensorflowjs) (1.3.0)\n",
            "Requirement already satisfied: rsa<5,>=3.1.4; python_version >= \"3.6\" in /usr/local/lib/python3.7/dist-packages (from google-auth<2,>=1.6.3->tensorboard~=2.5->tensorflow<3,>=2.1.0->tensorflowjs) (4.7.2)\n",
            "Requirement already satisfied: pyasn1-modules>=0.2.1 in /usr/local/lib/python3.7/dist-packages (from google-auth<2,>=1.6.3->tensorboard~=2.5->tensorflow<3,>=2.1.0->tensorflowjs) (0.2.8)\n",
            "Requirement already satisfied: cachetools<5.0,>=2.0.0 in /usr/local/lib/python3.7/dist-packages (from google-auth<2,>=1.6.3->tensorboard~=2.5->tensorflow<3,>=2.1.0->tensorflowjs) (4.2.2)\n",
            "Requirement already satisfied: importlib-metadata; python_version < \"3.8\" in /usr/local/lib/python3.7/dist-packages (from markdown>=2.6.8->tensorboard~=2.5->tensorflow<3,>=2.1.0->tensorflowjs) (4.0.1)\n",
            "Requirement already satisfied: urllib3!=1.25.0,!=1.25.1,<1.26,>=1.21.1 in /usr/local/lib/python3.7/dist-packages (from requests<3,>=2.21.0->tensorboard~=2.5->tensorflow<3,>=2.1.0->tensorflowjs) (1.24.3)\n",
            "Requirement already satisfied: chardet<4,>=3.0.2 in /usr/local/lib/python3.7/dist-packages (from requests<3,>=2.21.0->tensorboard~=2.5->tensorflow<3,>=2.1.0->tensorflowjs) (3.0.4)\n",
            "Requirement already satisfied: certifi>=2017.4.17 in /usr/local/lib/python3.7/dist-packages (from requests<3,>=2.21.0->tensorboard~=2.5->tensorflow<3,>=2.1.0->tensorflowjs) (2020.12.5)\n",
            "Requirement already satisfied: idna<3,>=2.5 in /usr/local/lib/python3.7/dist-packages (from requests<3,>=2.21.0->tensorboard~=2.5->tensorflow<3,>=2.1.0->tensorflowjs) (2.10)\n",
            "Requirement already satisfied: oauthlib>=3.0.0 in /usr/local/lib/python3.7/dist-packages (from requests-oauthlib>=0.7.0->google-auth-oauthlib<0.5,>=0.4.1->tensorboard~=2.5->tensorflow<3,>=2.1.0->tensorflowjs) (3.1.0)\n",
            "Requirement already satisfied: pyasn1>=0.1.3 in /usr/local/lib/python3.7/dist-packages (from rsa<5,>=3.1.4; python_version >= \"3.6\"->google-auth<2,>=1.6.3->tensorboard~=2.5->tensorflow<3,>=2.1.0->tensorflowjs) (0.4.8)\n",
            "Requirement already satisfied: zipp>=0.5 in /usr/local/lib/python3.7/dist-packages (from importlib-metadata; python_version < \"3.8\"->markdown>=2.6.8->tensorboard~=2.5->tensorflow<3,>=2.1.0->tensorflowjs) (3.4.1)\n",
            "Installing collected packages: tensorflow-hub, tensorflowjs\n",
            "  Found existing installation: tensorflow-hub 0.12.0\n",
            "    Uninstalling tensorflow-hub-0.12.0:\n",
            "      Successfully uninstalled tensorflow-hub-0.12.0\n",
            "Successfully installed tensorflow-hub-0.9.0 tensorflowjs-3.6.0\n"
          ],
          "name": "stdout"
        }
      ]
    },
    {
      "cell_type": "code",
      "metadata": {
        "id": "tAcHFcOFZKmZ"
      },
      "source": [
        "import tensorflowjs as tfjs\n",
        "tfjs.converters.save_keras_model(model, 'models')"
      ],
      "execution_count": null,
      "outputs": []
    },
    {
      "cell_type": "code",
      "metadata": {
        "id": "foVfJkBNbNai"
      },
      "source": [
        ""
      ],
      "execution_count": null,
      "outputs": []
    }
  ]
}